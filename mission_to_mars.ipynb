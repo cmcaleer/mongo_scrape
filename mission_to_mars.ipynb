{
 "cells": [
  {
   "cell_type": "code",
   "execution_count": 14,
   "metadata": {},
   "outputs": [],
   "source": [
    "from bs4 import BeautifulSoup as bs\n",
    "import requests\n",
    "import os\n",
    "from splinter import Browser\n",
    "from bs4 import BeautifulSoup\n",
    "import cssutils\n",
    "import pandas as pd\n",
    "from tabulate import tabulate\n",
    "import json\n",
    "#from bson.json_util import loads, dumps"
   ]
  },
  {
   "cell_type": "markdown",
   "metadata": {},
   "source": [
    "# NASA Mars News"
   ]
  },
  {
   "cell_type": "code",
   "execution_count": 15,
   "metadata": {},
   "outputs": [],
   "source": [
    "#Link to page then pull the request then use beautiful soup to scrape it\n",
    "page_link  = \"https://mars.nasa.gov/news/8426/nasa-garners-7-webby-award-nominations/\"\n",
    "page_response = requests.get(page_link, timeout=5)\n",
    "nasa_page_content = bs(page_response.content, \"html.parser\")"
   ]
  },
  {
   "cell_type": "code",
   "execution_count": 16,
   "metadata": {},
   "outputs": [
    {
     "data": {
      "text/plain": [
       "'NASA Garners 7 Webby Award Nominations – NASA’s Mars Exploration Program '"
      ]
     },
     "execution_count": 16,
     "metadata": {},
     "output_type": "execute_result"
    }
   ],
   "source": [
    "nasa_title= nasa_page_content.title.text\n",
    "nasa_title"
   ]
  },
  {
   "cell_type": "code",
   "execution_count": 17,
   "metadata": {},
   "outputs": [
    {
     "data": {
      "text/plain": [
       "'<!DOCTYPE html>\\n<html lang=\"en\" xml:lang=\"en\" xmlns=\"http://www.w3.org/1999/xhtml\">\\n <head>\\n  <meta content=\"text/html; charset=utf-8\" http-equiv=\"Content-Type\"/>\\n  <!-- Always force latest IE rendering engine or request Chrome Frame -->\\n  <meta content=\"IE=edge,chrome=1\" http-equiv=\"X-UA-Compatible\"/>\\n  <script type=\"text/javascript\">\\n   window.NREUM||(NREUM={});NREUM.info={\"beacon\":\"bam.nr-data.net\",\"errorBeacon\":\"bam.nr-data.net\",\"licenseKey\":\"5e33925808\",\"applicationID\":\"59562082\",\"transactionName\":\"JVcPR0MLWApSRU1eAQVVEhxfAUMVaF4WVg4VFxJbXhM=\",\"queueTime\":0,\"applicationTime\":735,\"agent\":\"\"}\\n  </script>\\n  <script type=\"text/javascript\">\\n   (window.NREUM||(NREUM={})).loader_config={xpid:\"VQcPUlZTDxAFXVRUBQEPVA==\"};window.NREUM||(NREUM={}),__nr_require=function(t,n,e){function r(e){if(!n[e]){var o=n[e]={exports:{}};t[e][0].call(o.exports,function(n){var o=t[e][1][n];return r(o||n)},o,o.exports)}return n[e].exports}if(\"function\"==typeof __nr_require)return __nr_require;for(var o=0;o<e.length;o++)r(e[o]);return r}({1:[function(t,n,e){function r(t){try{s.console&&console.log(t)}catch(n){}}var o,i=t(\"ee\"),a=t(16),s={};try{o=localStorage.getItem(\"__nr_flags\").split(\",\"),console&&\"function\"==typeof console.log&&(s.console=!0,o.indexOf(\"dev\")!==-1&&(s.dev=!0),o.indexOf(\"nr_dev\")!==-1&&(s.nrDev=!0))}catch(c){}s.nrDev&&i.on(\"internal-error\",function(t){r(t.stack)}),s.dev&&i.on(\"fn-err\",function(t,n,e){r(e.stack)}),s.dev&&(r(\"NR AGENT IN DEVELOPMENT MODE\"),r(\"flags: \"+a(s,function(t,n){return t}).join(\", \")))},{}],2:[function(t,n,e){function r(t,n,e,r,s){try{p?p-=1:o(s||new UncaughtException(t,n,e),!0)}catch(f){try{i(\"ierr\",[f,c.now(),!0])}catch(d){}}return\"function\"==typeof u&&u.apply(this,a(arguments))}function UncaughtException(t,n,e){this.message=t||\"Uncaught error with no additional information\",this.sourceURL=n,this.line=e}function o(t,n){var e=n?null:c.now();i(\"err\",[t,e])}var i=t(\"handle\"),a=t(17),s=t(\"ee\"),c=t(\"loader\"),f=t(\"gos\"),u=window.onerror,d=!1,l=\"nr@seenError\",p=0;c.features.err=!0,t(1),window.onerror=r;try{throw new Error}catch(h){\"stack\"in h&&(t(8),t(7),\"addEventListener\"in window&&t(5),c.xhrWrappable&&t(9),d=!0)}s.on(\"fn-start\",function(t,n,e){d&&(p+=1)}),s.on(\"fn-err\",function(t,n,e){d&&!e[l]&&(f(e,l,function(){return!0}),this.thrown=!0,o(e))}),s.on(\"fn-end\",function(){d&&!this.thrown&&p>0&&(p-=1)}),s.on(\"internal-error\",function(t){i(\"ierr\",[t,c.now(),!0])})},{}],3:[function(t,n,e){t(\"loader\").features.ins=!0},{}],4:[function(t,n,e){function r(t){}if(window.performance&&window.performance.timing&&window.performance.getEntriesByType){var o=t(\"ee\"),i=t(\"handle\"),a=t(8),s=t(7),c=\"learResourceTimings\",f=\"addEventListener\",u=\"resourcetimingbufferfull\",d=\"bstResource\",l=\"resource\",p=\"-start\",h=\"-end\",m=\"fn\"+p,v=\"fn\"+h,w=\"bstTimer\",y=\"pushState\",g=t(\"loader\");g.features.stn=!0,t(6);var b=NREUM.o.EV;o.on(m,function(t,n){var e=t[0];e instanceof b&&(this.bstStart=g.now())}),o.on(v,function(t,n){var e=t[0];e instanceof b&&i(\"bst\",[e,n,this.bstStart,g.now()])}),a.on(m,function(t,n,e){this.bstStart=g.now(),this.bstType=e}),a.on(v,function(t,n){i(w,[n,this.bstStart,g.now(),this.bstType])}),s.on(m,function(){this.bstStart=g.now()}),s.on(v,function(t,n){i(w,[n,this.bstStart,g.now(),\"requestAnimationFrame\"])}),o.on(y+p,function(t){this.time=g.now(),this.startPath=location.pathname+location.hash}),o.on(y+h,function(t){i(\"bstHist\",[location.pathname+location.hash,this.startPath,this.time])}),f in window.performance&&(window.performance[\"c\"+c]?window.performance[f](u,function(t){i(d,[window.performance.getEntriesByType(l)]),window.performance[\"c\"+c]()},!1):window.performance[f](\"webkit\"+u,function(t){i(d,[window.performance.getEntriesByType(l)]),window.performance[\"webkitC\"+c]()},!1)),document[f](\"scroll\",r,{passive:!0}),document[f](\"keypress\",r,!1),document[f](\"click\",r,!1)}},{}],5:[function(t,n,e){function r(t){for(var n=t;n&&!n.hasOwnProperty(u);)n=Object.getPrototypeOf(n);n&&o(n)}function o(t){s.inPlace(t,[u,d],\"-\",i)}function i(t,n){return t[1]}var a=t(\"ee\").get(\"events\"),s=t(19)(a,!0),c=t(\"gos\"),f=XMLHttpRequest,u=\"addEventListener\",d=\"removeEventListener\";n.exports=a,\"getPrototypeOf\"in Object?(r(document),r(window),r(f.prototype)):f.prototype.hasOwnProperty(u)&&(o(window),o(f.prototype)),a.on(u+\"-start\",function(t,n){var e=t[1],r=c(e,\"nr@wrapped\",function(){function t(){if(\"function\"==typeof e.handleEvent)return e.handleEvent.apply(e,arguments)}var n={object:t,\"function\":e}[typeof e];return n?s(n,\"fn-\",null,n.name||\"anonymous\"):e});this.wrapped=t[1]=r}),a.on(d+\"-start\",function(t){t[1]=this.wrapped||t[1]})},{}],6:[function(t,n,e){var r=t(\"ee\").get(\"history\"),o=t(19)(r);n.exports=r,o.inPlace(window.history,[\"pushState\",\"replaceState\"],\"-\")},{}],7:[function(t,n,e){var r=t(\"ee\").get(\"raf\"),o=t(19)(r),i=\"equestAnimationFrame\";n.exports=r,o.inPlace(window,[\"r\"+i,\"mozR\"+i,\"webkitR\"+i,\"msR\"+i],\"raf-\"),r.on(\"raf-start\",function(t){t[0]=o(t[0],\"fn-\")})},{}],8:[function(t,n,e){function r(t,n,e){t[0]=a(t[0],\"fn-\",null,e)}function o(t,n,e){this.method=e,this.timerDuration=isNaN(t[1])?0:+t[1],t[0]=a(t[0],\"fn-\",this,e)}var i=t(\"ee\").get(\"timer\"),a=t(19)(i),s=\"setTimeout\",c=\"setInterval\",f=\"clearTimeout\",u=\"-start\",d=\"-\";n.exports=i,a.inPlace(window,[s,\"setImmediate\"],s+d),a.inPlace(window,[c],c+d),a.inPlace(window,[f,\"clearImmediate\"],f+d),i.on(c+u,r),i.on(s+u,o)},{}],9:[function(t,n,e){function r(t,n){d.inPlace(n,[\"onreadystatechange\"],\"fn-\",s)}function o(){var t=this,n=u.context(t);t.readyState>3&&!n.resolved&&(n.resolved=!0,u.emit(\"xhr-resolved\",[],t)),d.inPlace(t,y,\"fn-\",s)}function i(t){g.push(t),h&&(x?x.then(a):v?v(a):(E=-E,O.data=E))}function a(){for(var t=0;t<g.length;t++)r([],g[t]);g.length&&(g=[])}function s(t,n){return n}function c(t,n){for(var e in t)n[e]=t[e];return n}t(5);var f=t(\"ee\"),u=f.get(\"xhr\"),d=t(19)(u),l=NREUM.o,p=l.XHR,h=l.MO,m=l.PR,v=l.SI,w=\"readystatechange\",y=[\"onload\",\"onerror\",\"onabort\",\"onloadstart\",\"onloadend\",\"onprogress\",\"ontimeout\"],g=[];n.exports=u;var b=window.XMLHttpRequest=function(t){var n=new p(t);try{u.emit(\"new-xhr\",[n],n),n.addEventListener(w,o,!1)}catch(e){try{u.emit(\"internal-error\",[e])}catch(r){}}return n};if(c(p,b),b.prototype=p.prototype,d.inPlace(b.prototype,[\"open\",\"send\"],\"-xhr-\",s),u.on(\"send-xhr-start\",function(t,n){r(t,n),i(n)}),u.on(\"open-xhr-start\",r),h){var x=m&&m.resolve();if(!v&&!m){var E=1,O=document.createTextNode(E);new h(a).observe(O,{characterData:!0})}}else f.on(\"fn-end\",function(t){t[0]&&t[0].type===w||a()})},{}],10:[function(t,n,e){function r(t){var n=this.params,e=this.metrics;if(!this.ended){this.ended=!0;for(var r=0;r<d;r++)t.removeEventListener(u[r],this.listener,!1);if(!n.aborted){if(e.duration=a.now()-this.startTime,4===t.readyState){n.status=t.status;var i=o(t,this.lastSize);if(i&&(e.rxSize=i),this.sameOrigin){var c=t.getResponseHeader(\"X-NewRelic-App-Data\");c&&(n.cat=c.split(\", \").pop())}}else n.status=0;e.cbTime=this.cbTime,f.emit(\"xhr-done\",[t],t),s(\"xhr\",[n,e,this.startTime])}}}function o(t,n){var e=t.responseType;if(\"json\"===e&&null!==n)return n;var r=\"arraybuffer\"===e||\"blob\"===e||\"json\"===e?t.response:t.responseText;return h(r)}function i(t,n){var e=c(n),r=t.params;r.host=e.hostname+\":\"+e.port,r.pathname=e.pathname,t.sameOrigin=e.sameOrigin}var a=t(\"loader\");if(a.xhrWrappable){var s=t(\"handle\"),c=t(11),f=t(\"ee\"),u=[\"load\",\"error\",\"abort\",\"timeout\"],d=u.length,l=t(\"id\"),p=t(14),h=t(13),m=window.XMLHttpRequest;a.features.xhr=!0,t(9),f.on(\"new-xhr\",function(t){var n=this;n.totalCbs=0,n.called=0,n.cbTime=0,n.end=r,n.ended=!1,n.xhrGuids={},n.lastSize=null,p&&(p>34||p<10)||window.opera||t.addEventListener(\"progress\",function(t){n.lastSize=t.loaded},!1)}),f.on(\"open-xhr-start\",function(t){this.params={method:t[0]},i(this,t[1]),this.metrics={}}),f.on(\"open-xhr-end\",function(t,n){\"loader_config\"in NREUM&&\"xpid\"in NREUM.loader_config&&this.sameOrigin&&n.setRequestHeader(\"X-NewRelic-ID\",NREUM.loader_config.xpid)}),f.on(\"send-xhr-start\",function(t,n){var e=this.metrics,r=t[0],o=this;if(e&&r){var i=h(r);i&&(e.txSize=i)}this.startTime=a.now(),this.listener=function(t){try{\"abort\"===t.type&&(o.params.aborted=!0),(\"load\"!==t.type||o.called===o.totalCbs&&(o.onloadCalled||\"function\"!=typeof n.onload))&&o.end(n)}catch(e){try{f.emit(\"internal-error\",[e])}catch(r){}}};for(var s=0;s<d;s++)n.addEventListener(u[s],this.listener,!1)}),f.on(\"xhr-cb-time\",function(t,n,e){this.cbTime+=t,n?this.onloadCalled=!0:this.called+=1,this.called!==this.totalCbs||!this.onloadCalled&&\"function\"==typeof e.onload||this.end(e)}),f.on(\"xhr-load-added\",function(t,n){var e=\"\"+l(t)+!!n;this.xhrGuids&&!this.xhrGuids[e]&&(this.xhrGuids[e]=!0,this.totalCbs+=1)}),f.on(\"xhr-load-removed\",function(t,n){var e=\"\"+l(t)+!!n;this.xhrGuids&&this.xhrGuids[e]&&(delete this.xhrGuids[e],this.totalCbs-=1)}),f.on(\"addEventListener-end\",function(t,n){n instanceof m&&\"load\"===t[0]&&f.emit(\"xhr-load-added\",[t[1],t[2]],n)}),f.on(\"removeEventListener-end\",function(t,n){n instanceof m&&\"load\"===t[0]&&f.emit(\"xhr-load-removed\",[t[1],t[2]],n)}),f.on(\"fn-start\",function(t,n,e){n instanceof m&&(\"onload\"===e&&(this.onload=!0),(\"load\"===(t[0]&&t[0].type)||this.onload)&&(this.xhrCbStart=a.now()))}),f.on(\"fn-end\",function(t,n){this.xhrCbStart&&f.emit(\"xhr-cb-time\",[a.now()-this.xhrCbStart,this.onload,n],n)})}},{}],11:[function(t,n,e){n.exports=function(t){var n=document.createElement(\"a\"),e=window.location,r={};n.href=t,r.port=n.port;var o=n.href.split(\"://\");!r.port&&o[1]&&(r.port=o[1].split(\"/\")[0].split(\"@\").pop().split(\":\")[1]),r.port&&\"0\"!==r.port||(r.port=\"https\"===o[0]?\"443\":\"80\"),r.hostname=n.hostname||e.hostname,r.pathname=n.pathname,r.protocol=o[0],\"/\"!==r.pathname.charAt(0)&&(r.pathname=\"/\"+r.pathname);var i=!n.protocol||\":\"===n.protocol||n.protocol===e.protocol,a=n.hostname===document.domain&&n.port===e.port;return r.sameOrigin=i&&(!n.hostname||a),r}},{}],12:[function(t,n,e){function r(){}function o(t,n,e){return function(){return i(t,[f.now()].concat(s(arguments)),n?null:this,e),n?void 0:this}}var i=t(\"handle\"),a=t(16),s=t(17),c=t(\"ee\").get(\"tracer\"),f=t(\"loader\"),u=NREUM;\"undefined\"==typeof window.newrelic&&(newrelic=u);var d=[\"setPageViewName\",\"setCustomAttribute\",\"setErrorHandler\",\"finished\",\"addToTrace\",\"inlineHit\",\"addRelease\"],l=\"api-\",p=l+\"ixn-\";a(d,function(t,n){u[n]=o(l+n,!0,\"api\")}),u.addPageAction=o(l+\"addPageAction\",!0),u.setCurrentRouteName=o(l+\"routeName\",!0),n.exports=newrelic,u.interaction=function(){return(new r).get()};var h=r.prototype={createTracer:function(t,n){var e={},r=this,o=\"function\"==typeof n;return i(p+\"tracer\",[f.now(),t,e],r),function(){if(c.emit((o?\"\":\"no-\")+\"fn-start\",[f.now(),r,o],e),o)try{return n.apply(this,arguments)}catch(t){throw c.emit(\"fn-err\",[arguments,this,t],e),t}finally{c.emit(\"fn-end\",[f.now()],e)}}}};a(\"actionText,setName,setAttribute,save,ignore,onEnd,getContext,end,get\".split(\",\"),function(t,n){h[n]=o(p+n)}),newrelic.noticeError=function(t,n){\"string\"==typeof t&&(t=new Error(t)),i(\"err\",[t,f.now(),!1,n])}},{}],13:[function(t,n,e){n.exports=function(t){if(\"string\"==typeof t&&t.length)return t.length;if(\"object\"==typeof t){if(\"undefined\"!=typeof ArrayBuffer&&t instanceof ArrayBuffer&&t.byteLength)return t.byteLength;if(\"undefined\"!=typeof Blob&&t instanceof Blob&&t.size)return t.size;if(!(\"undefined\"!=typeof FormData&&t instanceof FormData))try{return JSON.stringify(t).length}catch(n){return}}}},{}],14:[function(t,n,e){var r=0,o=navigator.userAgent.match(/Firefox[\\\\/\\\\s](\\\\d+\\\\.\\\\d+)/);o&&(r=+o[1]),n.exports=r},{}],15:[function(t,n,e){function r(t,n){if(!o)return!1;if(t!==o)return!1;if(!n)return!0;if(!i)return!1;for(var e=i.split(\".\"),r=n.split(\".\"),a=0;a<r.length;a++)if(r[a]!==e[a])return!1;return!0}var o=null,i=null,a=/Version\\\\/(\\\\S+)\\\\s+Safari/;if(navigator.userAgent){var s=navigator.userAgent,c=s.match(a);c&&s.indexOf(\"Chrome\")===-1&&s.indexOf(\"Chromium\")===-1&&(o=\"Safari\",i=c[1])}n.exports={agent:o,version:i,match:r}},{}],16:[function(t,n,e){function r(t,n){var e=[],r=\"\",i=0;for(r in t)o.call(t,r)&&(e[i]=n(r,t[r]),i+=1);return e}var o=Object.prototype.hasOwnProperty;n.exports=r},{}],17:[function(t,n,e){function r(t,n,e){n||(n=0),\"undefined\"==typeof e&&(e=t?t.length:0);for(var r=-1,o=e-n||0,i=Array(o<0?0:o);++r<o;)i[r]=t[n+r];return i}n.exports=r},{}],18:[function(t,n,e){n.exports={exists:\"undefined\"!=typeof window.performance&&window.performance.timing&&\"undefined\"!=typeof window.performance.timing.navigationStart}},{}],19:[function(t,n,e){function r(t){return!(t&&t instanceof Function&&t.apply&&!t[a])}var o=t(\"ee\"),i=t(17),a=\"nr@original\",s=Object.prototype.hasOwnProperty,c=!1;n.exports=function(t,n){function e(t,n,e,o){function nrWrapper(){var r,a,s,c;try{a=this,r=i(arguments),s=\"function\"==typeof e?e(r,a):e||{}}catch(f){l([f,\"\",[r,a,o],s])}u(n+\"start\",[r,a,o],s);try{return c=t.apply(a,r)}catch(d){throw u(n+\"err\",[r,a,d],s),d}finally{u(n+\"end\",[r,a,c],s)}}return r(t)?t:(n||(n=\"\"),nrWrapper[a]=t,d(t,nrWrapper),nrWrapper)}function f(t,n,o,i){o||(o=\"\");var a,s,c,f=\"-\"===o.charAt(0);for(c=0;c<n.length;c++)s=n[c],a=t[s],r(a)||(t[s]=e(a,f?s+o:o,i,s))}function u(e,r,o){if(!c||n){var i=c;c=!0;try{t.emit(e,r,o,n)}catch(a){l([a,e,r,o])}c=i}}function d(t,n){if(Object.defineProperty&&Object.keys)try{var e=Object.keys(t);return e.forEach(function(e){Object.defineProperty(n,e,{get:function(){return t[e]},set:function(n){return t[e]=n,n}})}),n}catch(r){l([r])}for(var o in t)s.call(t,o)&&(n[o]=t[o]);return n}function l(n){try{t.emit(\"internal-error\",n)}catch(e){}}return t||(t=o),e.inPlace=f,e.flag=a,e}},{}],ee:[function(t,n,e){function r(){}function o(t){function n(t){return t&&t instanceof r?t:t?c(t,s,i):i()}function e(e,r,o,i){if(!l.aborted||i){t&&t(e,r,o);for(var a=n(o),s=m(e),c=s.length,f=0;f<c;f++)s[f].apply(a,r);var d=u[g[e]];return d&&d.push([b,e,r,a]),a}}function p(t,n){y[t]=m(t).concat(n)}function h(t,n){var e=y[t];if(e)for(var r=0;r<e.length;r++)e[r]===n&&e.splice(r,1)}function m(t){return y[t]||[]}function v(t){return d[t]=d[t]||o(e)}function w(t,n){f(t,function(t,e){n=n||\"feature\",g[e]=n,n in u||(u[n]=[])})}var y={},g={},b={on:p,addEventListener:p,removeEventListener:h,emit:e,get:v,listeners:m,context:n,buffer:w,abort:a,aborted:!1};return b}function i(){return new r}function a(){(u.api||u.feature)&&(l.aborted=!0,u=l.backlog={})}var s=\"nr@context\",c=t(\"gos\"),f=t(16),u={},d={},l=n.exports=o();l.backlog=u},{}],gos:[function(t,n,e){function r(t,n,e){if(o.call(t,n))return t[n];var r=e();if(Object.defineProperty&&Object.keys)try{return Object.defineProperty(t,n,{value:r,writable:!0,enumerable:!1}),r}catch(i){}return t[n]=r,r}var o=Object.prototype.hasOwnProperty;n.exports=r},{}],handle:[function(t,n,e){function r(t,n,e,r){o.buffer([t],r),o.emit(t,n,e)}var o=t(\"ee\").get(\"handle\");n.exports=r,r.ee=o},{}],id:[function(t,n,e){function r(t){var n=typeof t;return!t||\"object\"!==n&&\"function\"!==n?-1:t===window?0:a(t,i,function(){return o++})}var o=1,i=\"nr@id\",a=t(\"gos\");n.exports=r},{}],loader:[function(t,n,e){function r(){if(!E++){var t=x.info=NREUM.info,n=p.getElementsByTagName(\"script\")[0];if(setTimeout(u.abort,3e4),!(t&&t.licenseKey&&t.applicationID&&n))return u.abort();f(g,function(n,e){t[n]||(t[n]=e)}),c(\"mark\",[\"onload\",a()+x.offset],null,\"api\");var e=p.createElement(\"script\");e.src=\"https://\"+t.agent,n.parentNode.insertBefore(e,n)}}function o(){\"complete\"===p.readyState&&i()}function i(){c(\"mark\",[\"domContent\",a()+x.offset],null,\"api\")}function a(){return O.exists&&performance.now?Math.round(performance.now()):(s=Math.max((new Date).getTime(),s))-x.offset}var s=(new Date).getTime(),c=t(\"handle\"),f=t(16),u=t(\"ee\"),d=t(15),l=window,p=l.document,h=\"addEventListener\",m=\"attachEvent\",v=l.XMLHttpRequest,w=v&&v.prototype;NREUM.o={ST:setTimeout,SI:l.setImmediate,CT:clearTimeout,XHR:v,REQ:l.Request,EV:l.Event,PR:l.Promise,MO:l.MutationObserver};var y=\"\"+location,g={beacon:\"bam.nr-data.net\",errorBeacon:\"bam.nr-data.net\",agent:\"js-agent.newrelic.com/nr-1118.min.js\"},b=v&&w&&w[h]&&!/CriOS/.test(navigator.userAgent),x=n.exports={offset:s,now:a,origin:y,features:{},xhrWrappable:b,userAgent:d};t(12),p[h]?(p[h](\"DOMContentLoaded\",i,!1),l[h](\"load\",r,!1)):(p[m](\"onreadystatechange\",o),l[m](\"onload\",r)),c(\"mark\",[\"firstbyte\",s],null,\"api\");var E=0,O=t(18)},{}]},{},[\"loader\",2,10,4,3]);\\n  </script>\\n  <!-- Responsiveness -->\\n  <meta content=\"width=device-width, initial-scale=1.0\" name=\"viewport\"/>\\n  <!-- Favicon -->\\n  <link href=\"/apple-touch-icon.png\" rel=\"apple-touch-icon\" sizes=\"180x180\"/>\\n  <link href=\"/favicon-32x32.png\" rel=\"icon\" sizes=\"32x32\" type=\"image/png\"/>\\n  <link href=\"/favicon-16x16.png\" rel=\"icon\" sizes=\"16x16\" type=\"image/png\"/>\\n  <link href=\"/manifest.json\" rel=\"manifest\"/>\\n  <link color=\"#e48b55\" href=\"/safari-pinned-tab.svg\" rel=\"mask-icon\"/>\\n  <meta content=\"#000000\" name=\"theme-color\"/>\\n  <meta content=\"authenticity_token\" name=\"csrf-param\">\\n   <meta content=\"NhKzO3Pf0UCYZwcoOpWFPxbnDWMnN4BjYy9obyO+4Q0=\" name=\"csrf-token\">\\n    <title>\\n     NASA Garners 7 Webby Award Nominations – NASA’s Mars Exploration Program\\n    </title>\\n    <meta content=\"NASA’s Mars Exploration Program \" property=\"og:site_name\"/>\\n    <meta content=\"mars.nasa.gov\" name=\"author\"/>\\n    <meta content=\"Mars, missions, NASA, rover, Curiosity, Opportunity, InSight, Mars Reconnaissance Orbiter, facts\" name=\"keywords\"/>\\n    <meta content=\"Nominees include four JPL projects: the solar system and climate websites, InSight social media, and a 360-degree Earth video. Public voting closes April 18, 2019.\" name=\"description\"/>\\n    <meta content=\"Nominees include four JPL projects: the solar system and climate websites, InSight social media, and a 360-degree Earth video. Public voting closes April 18, 2019.\" property=\"og:description\"/>\\n    <meta content=\"NASA Garners 7 Webby Award Nominations – NASA’s Mars Exploration Program \" property=\"og:title\"/>\\n    <meta content=\"https://mars.nasa.gov/news/8426/nasa-garners-7-webby-award-nominations\" property=\"og:url\"/>\\n    <meta content=\"article\" property=\"og:type\"/>\\n    <meta content=\"2019-04-05 22:31:08 UTC\" property=\"og:updated_time\"/>\\n    <meta content=\"https://mars.nasa.gov/system/news_items/main_images/8426_Webby2019-16.jpg\" property=\"og:image\"/>\\n    <meta content=\"https://mars.nasa.gov/system/news_items/main_images/8426_Webby2019-16.jpg\" name=\"twitter:image\"/>\\n    <link href=\"https://mars.nasa.gov/system/news_items/main_images/8426_Webby2019-16.jpg\" rel=\"image_src\"/>\\n    <script type=\"application/ld+json\">\\n     {\\n  \"@type\": \"NewsArticle\",\\n  \"headline\": \"NASA Garners 7 Webby Award Nominations\",\\n  \"image\": [\"https://mars.nasa.gov/system/news_items/main_images/8426_Webby2019-16.jpg\", \"https://mars.nasa.gov/system/news_items/list_view_images/8426_Webby2019-320x240.jpg\"],\\n  \"datePublished\": \"2019-04-05 00:00:00 UTC\",\\n  \"dateModified\": \"2019-04-05 22:31:08 UTC\"\\n\\n}\\n    </script>\\n    <meta content=\"195570401081308\" property=\"fb:app_id\"/>\\n    <link href=\"https://fonts.googleapis.com/css?family=Montserrat:200,300,400,500,600,700|Raleway:300,400\" rel=\"stylesheet\"/>\\n    <link href=\"/assets/public_manifest-2900b89d1f605190f8bc48d7358348415c14a9f0a0288a13444603d300c88f69.css\" media=\"all\" rel=\"stylesheet\">\\n     <link href=\"/assets/gulp/vendor/jquery.fancybox-364352e03618ba5a8da007665b1f0be31795293b22bc4d7c5974891d4976a137.css\" media=\"screen\" rel=\"stylesheet\">\\n      <link href=\"/assets/gulp/print-240f8bfaa7f6402dfd6c49ee3c1ffea57a89ddd4c8c90e2f2a5c7d63c5753e32.css\" media=\"print\" rel=\"stylesheet\">\\n       <script src=\"/assets/public_manifest-81b18e395f396f92f48c9c733f9531bc1ba9961d8bdb1c0672ca1fbdc4eb80f2.js\">\\n       </script>\\n       <!--[if gt IE 8]><!-->\\n       <script src=\"/assets/not_ie8_manifest.js\">\\n       </script>\\n       <!--[if !IE]>-->\\n       <script src=\"/assets/not_ie8_manifest.js\">\\n       </script>\\n       <!--<![endif]-->\\n       <script src=\"/assets/vendor/jquery.fancybox-a626572eb7b79487b7a58f4c0e311ae541ca790ef45944109d8140f56dbc897d.js\">\\n       </script>\\n       <script src=\"/assets/mb_manifest-2b66fe44b64b49e59f255f050236b37604701279ae629f1a55a2c2c8c72ed7b8.js\">\\n       </script>\\n       <!-- /twitter cards -->\\n       <meta content=\"summary_large_image\" name=\"twitter:card\"/>\\n       <meta content=\"NASA Garners 7 Webby Award Nominations\" name=\"twitter:title\"/>\\n       <meta content=\"Nominees include four JPL projects: the solar system and climate websites, InSight social media, and a 360-degree Earth video. Public voting closes April 18, 2019.\" name=\"twitter:description\"/>\\n       <meta content=\"https://mars.nasa.gov/system/news_items/main_images/8426_Webby2019-16.jpg\" name=\"twitter:image\"/>\\n      </link>\\n     </link>\\n    </link>\\n   </meta>\\n  </meta>\\n </head>\\n <body>\\n  <svg display=\"none\" height=\"0\" width=\"0\">\\n   <symbol height=\"30\" id=\"circle_plus\" viewbox=\"0 0 30 30\" width=\"30\">\\n    <g fill-rule=\"evenodd\" transform=\"translate(1 1)\">\\n     <circle cx=\"14\" cy=\"14\" fill=\"#fff\" fill-opacity=\".1\" fill-rule=\"nonzero\" r=\"14\" stroke=\"inherit\" stroke-width=\"1\">\\n     </circle>\\n     <path class=\"the_plus\" d=\"m18.856 12.96v1.738h-4.004v3.938h-1.848v-3.938h-4.004v-1.738h4.004v-3.96h1.848v3.96z\" fill=\"inherit\" stroke-width=\"0\">\\n     </path>\\n    </g>\\n   </symbol>\\n   <symbol height=\"30\" id=\"circle_arrow\" viewbox=\"0 0 30 30\" width=\"30\" xmlns=\"http://www.w3.org/2000/svg\">\\n    <g transform=\"translate(1 1)\">\\n     <circle cx=\"14\" cy=\"14\" fill=\"#fff\" fill-opacity=\".1\" r=\"14\" stroke=\"inherit\" stroke-width=\"1\">\\n     </circle>\\n     <path class=\"the_arrow\" d=\"m8.5 15.00025h7.984l-2.342 2.42c-.189.197-.189.518 0 .715l.684.717c.188.197.494.197.684 0l4.35-4.506c.188-.199.188-.52 0-.717l-4.322-4.48c-.189-.199-.496-.199-.684 0l-.684.716c-.189.197-.189.519 0 .716l2.341 2.419h-8.011c-.276 0-.5.223-.5.5v1c0 .275.224.5.5.5z\" fill=\"inherit\" stroke-width=\"0\">\\n     </path>\\n    </g>\\n   </symbol>\\n   <symbol height=\"30\" id=\"circle_close\" viewbox=\"0 0 30 30\" width=\"30\">\\n    <g fill-rule=\"evenodd\" transform=\"translate(1 1)\">\\n     <circle cx=\"14\" cy=\"14\" fill=\"blue\" fill-opacity=\"1\" fill-rule=\"nonzero\" r=\"14\" stroke=\"inherit\" stroke-width=\"1\">\\n     </circle>\\n     <path class=\"the_plus\" d=\"m18.856 12.96v1.738h-4.004v3.938h-1.848v-3.938h-4.004v-1.738h4.004v-3.96h1.848v3.96z\" fill=\"inherit\" stroke-width=\"0\">\\n     </path>\\n    </g>\\n   </symbol>\\n   <symbol height=\"30\" id=\"circle_close_hover\" viewbox=\"0 0 30 30\" width=\"30\">\\n    <g fill-rule=\"evenodd\" transform=\"translate(1 1)\">\\n     <circle cx=\"14\" cy=\"14\" fill=\"white\" fill-opacity=\"1\" fill-rule=\"nonzero\" r=\"14\" stroke=\"inherit\" stroke-width=\"1\">\\n     </circle>\\n     <path class=\"the_plus\" d=\"m18.856 12.96v1.738h-4.004v3.938h-1.848v-3.938h-4.004v-1.738h4.004v-3.96h1.848v3.96z\" fill=\"inherit\" stroke-width=\"0\">\\n     </path>\\n    </g>\\n   </symbol>\\n   <symbol height=\"6\" id=\"chevron_down\" viewbox=\"0 0 10 6\" width=\"10\" xmlns=\"http://www.w3.org/2000/svg\">\\n    <path d=\"m59 7v2.72727273l5 3.27272727 5-3.27272727v-2.72727273l-5 3.2727273z\" transform=\"translate(-59 -7)\">\\n    </path>\\n   </symbol>\\n  </svg>\\n  <div data-react-class=\"BrowseHappier\" data-react-props=\\'{\"gt\":1,\"lt\":11}\\'>\\n  </div>\\n  <div data-react-class=\"HiPO\" data-react-props=\"{}\">\\n  </div>\\n  <div id=\"main_container\">\\n   <div id=\"site_body\">\\n    <div class=\"site_header_area\">\\n     <header class=\"site_header\">\\n      <div class=\"brand_area\">\\n       <div class=\"brand1\">\\n        <a class=\"nasa_logo\" href=\"http://www.nasa.gov\" target=\"_blank\" title=\"visit nasa.gov\">\\n         NASA\\n        </a>\\n       </div>\\n       <div class=\"brand2\">\\n        <a class=\"top_logo\" href=\"https://science.nasa.gov/\" target=\"_blank\" title=\"Explore NASA Science\">\\n         NASA Science\\n        </a>\\n        <a class=\"sub_logo\" href=\"/mars-exploration/#\" title=\"Mars\">\\n         Mars Exploration Program\\n        </a>\\n       </div>\\n       <img alt=\"\" class=\"print_only print_logo\" src=\"/assets/logo_nasa_trio_black@2x.png\"/>\\n      </div>\\n      <a class=\"visuallyhidden focusable\" href=\"#page\">\\n       Skip Navigation\\n      </a>\\n      <div class=\"right_header_container\">\\n       <a class=\"menu_button\" href=\"javascript:void(0);\" id=\"menu_button\">\\n        <span class=\"menu_icon\">\\n         menu\\n        </span>\\n       </a>\\n       <a class=\"modal_close\" id=\"modal_close\">\\n        <span class=\"modal_close_icon\">\\n        </span>\\n       </a>\\n       <div class=\"nav_area\">\\n        <div id=\"site_nav_container\">\\n         <nav class=\"site_nav\">\\n          <ul class=\"nav\">\\n           <li>\\n            <div class=\"arrow_box\">\\n             <span class=\"arrow_down\">\\n             </span>\\n            </div>\\n            <div class=\"nav_title\">\\n             <a class=\"main_nav_item\" href=\"/#red_planet\" target=\"_self\">\\n              The Red Planet\\n             </a>\\n            </div>\\n            <div class=\"global_subnav_container\">\\n             <ul class=\"subnav\">\\n              <li>\\n               <a href=\"/#red_planet/0\" target=\"_self\">\\n                Dashboard\\n               </a>\\n              </li>\\n              <li>\\n               <a href=\"/#red_planet/1\" target=\"_self\">\\n                Science Goals\\n               </a>\\n              </li>\\n              <li>\\n               <a href=\"/#red_planet/2\" target=\"_self\">\\n                The Planet\\n               </a>\\n              </li>\\n              <li>\\n               <a href=\"/#red_planet/3\" target=\"_self\">\\n                Atmosphere\\n               </a>\\n              </li>\\n              <li>\\n               <a href=\"/#red_planet/4\" target=\"_self\">\\n                Astrobiology\\n               </a>\\n              </li>\\n              <li>\\n               <a href=\"/#red_planet/5\" target=\"_self\">\\n                Past, Present, Future, Timeline\\n               </a>\\n              </li>\\n             </ul>\\n            </div>\\n            <div class=\"gradient_line\">\\n            </div>\\n           </li>\\n           <li>\\n            <div class=\"arrow_box\">\\n             <span class=\"arrow_down\">\\n             </span>\\n            </div>\\n            <div class=\"nav_title\">\\n             <a class=\"main_nav_item\" href=\"/#mars_exploration_program\" target=\"_self\">\\n              The Program\\n             </a>\\n            </div>\\n            <div class=\"global_subnav_container\">\\n             <ul class=\"subnav\">\\n              <li>\\n               <a href=\"/#mars_exploration_program/0\" target=\"_self\">\\n                Mission Statement\\n               </a>\\n              </li>\\n              <li>\\n               <a href=\"/#mars_exploration_program/1\" target=\"_self\">\\n                About the Program\\n               </a>\\n              </li>\\n              <li>\\n               <a href=\"/#mars_exploration_program/2\" target=\"_self\">\\n                Organization\\n               </a>\\n              </li>\\n              <li>\\n               <a href=\"/#mars_exploration_program/3\" target=\"_self\">\\n                Why Mars?\\n               </a>\\n              </li>\\n              <li>\\n               <a href=\"/#mars_exploration_program/4\" target=\"_self\">\\n                Research Programs\\n               </a>\\n              </li>\\n              <li>\\n               <a href=\"/#mars_exploration_program/5\" target=\"_self\">\\n                Planetary Resources\\n               </a>\\n              </li>\\n              <li>\\n               <a href=\"/#mars_exploration_program/6\" target=\"_self\">\\n                Technologies\\n               </a>\\n              </li>\\n             </ul>\\n            </div>\\n            <div class=\"gradient_line\">\\n            </div>\\n           </li>\\n           <li>\\n            <div class=\"arrow_box\">\\n             <span class=\"arrow_down\">\\n             </span>\\n            </div>\\n            <div class=\"nav_title\">\\n             <a class=\"main_nav_item\" href=\"/#news_and_events\" target=\"_self\">\\n              News &amp; Events\\n             </a>\\n            </div>\\n            <div class=\"global_subnav_container\">\\n             <ul class=\"subnav\">\\n              <li>\\n               <a href=\"/news\" target=\"_self\">\\n                News\\n               </a>\\n              </li>\\n              <li>\\n               <a href=\"/events\" target=\"_self\">\\n                Events\\n               </a>\\n              </li>\\n             </ul>\\n            </div>\\n            <div class=\"gradient_line\">\\n            </div>\\n           </li>\\n           <li>\\n            <div class=\"arrow_box\">\\n             <span class=\"arrow_down\">\\n             </span>\\n            </div>\\n            <div class=\"nav_title\">\\n             <a class=\"main_nav_item\" href=\"/#multimedia\" target=\"_self\">\\n              Multimedia\\n             </a>\\n            </div>\\n            <div class=\"global_subnav_container\">\\n             <ul class=\"subnav\">\\n              <li>\\n               <a href=\"/multimedia/images/\" target=\"_self\">\\n                Images\\n               </a>\\n              </li>\\n              <li>\\n               <a href=\"/multimedia/videos/\" target=\"_self\">\\n                Videos\\n               </a>\\n              </li>\\n             </ul>\\n            </div>\\n            <div class=\"gradient_line\">\\n            </div>\\n           </li>\\n           <li>\\n            <div class=\"arrow_box\">\\n             <span class=\"arrow_down\">\\n             </span>\\n            </div>\\n            <div class=\"nav_title\">\\n             <a class=\"main_nav_item\" href=\"/#missions\" target=\"_self\">\\n              Missions\\n             </a>\\n            </div>\\n            <div class=\"global_subnav_container\">\\n             <ul class=\"subnav\">\\n              <li>\\n               <a href=\"/mars-exploration/missions/?category=167\" target=\"_self\">\\n                Past\\n               </a>\\n              </li>\\n              <li>\\n               <a href=\"/mars-exploration/missions/?category=170\" target=\"_self\">\\n                Present\\n               </a>\\n              </li>\\n              <li>\\n               <a href=\"/mars-exploration/missions/?category=171\" target=\"_self\">\\n                Future\\n               </a>\\n              </li>\\n              <li>\\n               <a href=\"/mars-exploration/partners\" target=\"_self\">\\n                International Partners\\n               </a>\\n              </li>\\n             </ul>\\n            </div>\\n            <div class=\"gradient_line\">\\n            </div>\\n           </li>\\n           <li>\\n            <div class=\"nav_title\">\\n             <a class=\"main_nav_item\" href=\"/#more\" target=\"_self\">\\n              More\\n             </a>\\n            </div>\\n            <div class=\"gradient_line\">\\n            </div>\\n           </li>\\n           <li>\\n            <div class=\"nav_title\">\\n             <a class=\"main_nav_item\" href=\"/legacy\" target=\"_self\">\\n              Legacy Site\\n             </a>\\n            </div>\\n            <div class=\"gradient_line\">\\n            </div>\\n           </li>\\n          </ul>\\n          <form action=\"https://mars.nasa.gov/search/\" class=\"overlay_search nav_search\">\\n           <label class=\"search_label\">\\n            Search\\n           </label>\\n           <input class=\"search_field\" name=\"q\" type=\"text\" value=\"\"/>\\n           <div class=\"search_submit\">\\n           </div>\\n          </form>\\n         </nav>\\n        </div>\\n       </div>\\n      </div>\\n     </header>\\n    </div>\\n    <div id=\"sticky_nav_spacer\">\\n    </div>\\n    <div id=\"page\">\\n     <script>\\n      $(document).ready(function(){\\n    var search_cookie = mb_utils.readCookie(\"news_items_gl_news\")\\n    if (search_cookie){\\n      var ct_href = $(\\'.category_title a\\').attr(\"href\")\\n      $(\\'.category_title a\\').attr(\"href\", ct_href + \"?\" + search_cookie)\\n    }\\n  })\\n     </script>\\n     <script>\\n      addthis_loader.init(\"//s7.addthis.com/js/300/addthis_widget.js#pubid=ra-5a690e4c1320e328\", {floater: true})\\n     </script>\\n     <div class=\"article_nav\">\\n      <a class=\"article_nav_block prev\" href=\"/news/8419/more-testing-for-mars-insights-mole/\" target=\"_self\">\\n       <div class=\"link_box\">\\n        <img alt=\"Previous Article\" src=\"/assets/arrow_left.jpg\"/>\\n       </div>\\n       <div class=\"article_details\" id=\"prev_details\">\\n        <div class=\"img\">\\n         <img alt=\"\" src=\"/system/news_items/list_view_images/8419_PIA23046-th.jpg\"/>\\n        </div>\\n        <div class=\"title\">\\n         More Testing for Mars InSight\\'s \\'Mole\\'\\n        </div>\\n       </div>\\n      </a>\\n      <a class=\"article_nav_block next\" href=\"/news/8425/curiosity-captured-two-solar-eclipses-on-mars/\" target=\"_self\">\\n       <div class=\"link_box\">\\n        <img alt=\"Next Article\" src=\"/assets/arrow_right.jpg\"/>\\n       </div>\\n       <div class=\"article_details\" id=\"next_details\">\\n        <div class=\"img\">\\n         <img alt=\"\" src=\"/system/news_items/list_view_images/8425_PIA23133-320x240.gif\"/>\\n        </div>\\n        <div class=\"title\">\\n         Curiosity Captured Two Solar Eclipses on Mars\\n        </div>\\n       </div>\\n      </a>\\n     </div>\\n     <div class=\"header_mask\">\\n     </div>\\n     <section class=\"content_page module\">\\n      <article>\\n       <div class=\"grid_layout\">\\n        <header id=\"page_header\">\\n         <h2 class=\"category_title\">\\n          <a href=\"/news/\">\\n           NEWS\\n          </a>\\n          <span class=\"release_date\">\\n           | April  5, 2019\\n          </span>\\n         </h2>\\n         <h1 class=\"article_title\">\\n          NASA Garners 7 Webby Award Nominations\\n         </h1>\\n        </header>\\n        <div class=\"clearfix\" id=\"primary_column\">\\n         <figure class=\"main_image\">\\n          <img alt=\"Seven NASA websites and social media efforts are nominated for the 2019 Webby People\\'s Voice Awards. Public voting continues through April 18.\" id=\"main_image\" src=\"/system/news_items/main_images/8426_Webby2019-16.jpg\"/>\\n          <figcaption class=\"main_image_caption\">\\n           <p>\\n            Seven NASA websites and social media efforts are nominated for the 2019 Webby People\\'s Voice Awards. Public voting continues through April 18. Credit: NASA/JPL-Caltech\\n           </p>\\n          </figcaption>\\n         </figure>\\n         <div class=\"wysiwyg_content\">\\n          <p>\\n           Want to talk about how to land spacecraft onto other planets? We\\'re here for you. Looking for the latest news or in-depth stories about science, technology and exploration? We\\'ve got those, too.\\n          </p>\\n          <p>\\n           And apparently, people have noticed. Seven of NASA\\'s digital properties have been nominated for the 2019 Webby Awards, which recognize excellence in digital communications. Three others have been\\n           <span>\\n            designated\\n           </span>\\n           honorees in this year\\'s awards.\\n          </p>\\n          <p>\\n           \"We\\'re really excited to have all of these efforts recognized,\" said Bettina Inclán, NASA\\'s associate administrator for communications. \"They represent hundreds of people across NASA who are committed to bringing the excitement of exploration to everyone.\"\\n          </p>\\n          <p>\\n           The social media efforts for NASA\\'s\\n           <a href=\"https://twitter.com/NASAInSight\" target=\"_blank\">\\n            InSight Mars lander\\n           </a>\\n           , nominated in the Education &amp; Discovery category, helped to make the hashtag #MarsLanding the No. 1 globally trending topic on Twitter on Nov. 26, 2018, the spacecraft\\'s landing day. That day was also the Monday after Thanksgiving weekend in the United States, reputed to be the busiest online shopping day of the year. #MarsLanding trended higher than the hashtag #CyberMonday.\\n          </p>\\n          <p>\\n           The combined excellence of all of NASA’s\\n           <a href=\"https://www.nasa.gov/socialmedia\" target=\"_blank\">\\n            flagship social media accounts\\n           </a>\\n           led to nominations in the Corporate Communications and Best Overall Social Presence (Brand) categories. The agency reached 40 million followers on Instagram this year, with more than 30 million on Twitter and 21 million on Facebook.\\n          </p>\\n          <p>\\n           Three NASA websites were nominated for Webbys:\\n           <a href=\"http://www.nasa.gov/\" target=\"_blank\">\\n            NASA.gov\\n           </a>\\n           , the agency’s flagship website, in the Government and Civil Innovation category;\\n           <a href=\"https://solarsystem.nasa.gov/\" target=\"_blank\">\\n            Solar System Exploration\\n           </a>\\n           , for Science; and\\n           <a href=\"https://climate.nasa.gov/\" target=\"_blank\">\\n            Global Climate Change\\n           </a>\\n           , for Green. Now averaging nearly 8 million visits a month, NASA.gov has been the agency\\'s primary website since the early 1990s. It has received 10 Webby Award nominations since 1998, winning the public People\\'s Voice award 10 times and three juried Webbys. In 2018, Gizmodo named it one of the \"\\n           <a href=\"https://gizmodo.com/100-websites-that-shaped-the-internet-as-we-know-it-1829634771?utm_campaign=socialflow_gizmodo_facebook&amp;utm_medium=socialflow&amp;utm_source=gizmodo_facebook&amp;fbclid=IwAR3wJ4E-98V9STlAlWMXLSsujB0aju4eQuAw1RCCtmsxgydfWczwFDivuPA\" target=\"_blank\">\\n            100 Websites that Shaped the Internet as We Know It.\\n           </a>\\n           \"\\n          </p>\\n          <p>\\n           The Solar System Exploration site is NASA\\'s real-time encyclopedia of deep-space exploration, with in-depth information on the variety of bodies found in our solar system and the missions that are exploring them. It has received three People\\'s Voice awards and a Webby to date and receives about 750,000 visits a month.\\n          </p>\\n          <p>\\n           The Global Climate Change site, established in 2009 and visited 1.2 million times monthly, has received two People\\'s Voice awards and two Webbys, one each in the Science and Green categories. Since 2015, it has been the top Google search result for the query \"climate change.\"\\n          </p>\\n          <p>\\n           The video “\\n           <a href=\"https://www.youtube.com/watch?v=-kcKjmsCO8U\" target=\"_blank\">\\n            The Call of Science\\n           </a>\\n           ,\" produced by NASA\\'s Jet Propulsion Laboratory (JPL) was nominated in the 360 Video category. The video describes NASA research on glaciers and coral reefs, highlighting its importance in understanding changing environments.\\n          </p>\\n          <p>\\n           <a href=\"https://www.jpl.nasa.gov/webby/\">\\n            JPL\\'s social media\\n           </a>\\n           efforts also received an “honoree” designation for\\n           <a href=\"https://vote.webbyawards.com/PublicVoting#/2019/advertising-media-pr/media/best-use-of-earned-media\" target=\"_blank\">\\n            Best Use of Earned Media\\n           </a>\\n           .\\n           <a href=\"https://opensourcerover.jpl.nasa.gov/#!/home\">\\n            JPL\\'s Open Source Rover\\n           </a>\\n           is a\\n           <a href=\"https://wbby.co/vote-web53\">\\n            Science Website\\n           </a>\\n           honoree; and its podcast,\\n           <a href=\"https://mars.nasa.gov/insight/multimedia/podcast/\" target=\"_blank\">\\n            \"On a Mission\"\\n           </a>\\n           is a\\n           <a href=\"https://vote.webbyawards.com/PublicVoting#/2019/podcasts/general-podcasts/science-education\" target=\"_blank\">\\n            Science &amp; Education Podcast\\n           </a>\\n           honoree.\\n          </p>\\n          <p>\\n           NASA has a long history of striving for digital distinction and has been\\n           <a href=\"https://www.nasa.gov/feature/nasa-webby-award-winners/\" target=\"_blank\">\\n            honored\\n           </a>\\n           by the Webby Awards over the years. Established in 1996 by the International Academy of Digital Arts and Sciences, the Webby Awards honor excellence on the internet, including websites, advertising and media, online film and video, mobile sites, apps and social media. The Webby in each category is awarded by a judging panel, but members of the public can register with the Webby Awards and vote for the\\n           <a href=\"https://vote.webbyawards.com/PublicVoting\" target=\"_blank\">\\n            People\\'s Voice Award\\n           </a>\\n           in each category. Members of the public can vote for their favorite sites and services in hundreds of categories until April 18; registration is required.\\n          </p>\\n          <p>\\n           The InSight Mars lander social media, Solar Exploration Site and Global Climate Change site are managed for NASA by JPL, a division of Caltech in Pasadena, California. NASA\\'s flagship social media accounts and NASA.gov are managed by the Office of Communications at NASA Headquarters, Washington.\\n          </p>\\n          <p>\\n           <span>\\n            Nominees include four JPL projects: the solar system and climate websites, InSight social media, and a 360-degree Earth video. Public voting closes April 18, 2019.\\n           </span>\\n          </p>\\n          <p>\\n           <b>\\n            News Media Contacts\\n           </b>\\n          </p>\\n          <p>\\n           Stephanie L. Smith\\n           <br/>\\n           818-393-5464\\n           <br/>\\n           Jet Propulsion Laboratory, Pasadena, Calif.\\n           <br/>\\n           <a href=\"mailto:slsmith@jpl.nasa.gov\">\\n            slsmith@jpl.nasa.gov\\n           </a>\\n          </p>\\n          <p>\\n           Brian Dunbar\\n           <br/>\\n           202-358-0873\\n           <br/>\\n           NASA Headquarters, Washington\\n           <br/>\\n           <a href=\"mailto:brian.dunbar@nasa.gov\">\\n            brian.dunbar@nasa.gov\\n           </a>\\n          </p>\\n         </div>\\n        </div>\\n        <div id=\"secondary_column\">\\n         <aside class=\"list_view_module boxed\">\\n          <header>\\n           <h2>\\n            Related Links\\n           </h2>\\n          </header>\\n          Members of the public can vote for the People\\'s Voice awards as part of the Webby Awards. Here are the links to vote in each category:\\n         </aside>\\n        </div>\\n       </div>\\n      </article>\\n     </section>\\n    </div>\\n   </div>\\n  </div>\\n </body>\\n</html>\\n<ul style=\"list-style-type: disc;list-style-position: outside;margin-left:1.5em\">\\n <li>\\n  Insight Mars Lander Social Media:\\n  <a href=\"https://vote.webbyawards.com/PublicVoting#/2019/social/general-social/education-discovery\" target=\"_blank\">\\n   Education &amp; Discovery\\n  </a>\\n </li>\\n <li>\\n  NASA.gov:\\n  <a href=\"https://vote.webbyawards.com/PublicVoting#/2019/websites/general-websites/government-civil-innovation\" target=\"_blank\">\\n   Government and Civil Innovation\\n  </a>\\n </li>\\n <li>\\n  Solar System Exploration:\\n  <a href=\"https://vote.webbyawards.com/PublicVoting#/2019/websites/general-websites/science\" target=\"_blank\">\\n   Science\\n  </a>\\n </li>\\n <li>\\n  Global Climate Change:\\n  <a href=\"https://vote.webbyawards.com/PublicVoting#/2019/websites/general-websites/green\" target=\"_blank\">\\n   Green\\n  </a>\\n </li>\\n <li>\\n  \"The Call of Science\":\\n  <a href=\"https://vote.webbyawards.com/PublicVoting#/2019/video/virtual-reality-360-video/360-video\" target=\"_blank\">\\n   360 Video\\n  </a>\\n </li>\\n <li>\\n  NASA Social Media:\\n  <a href=\"https://vote.webbyawards.com/PublicVoting#/2019/social/general-social/corporate-communications\" target=\"_blank\">\\n   Corporate Communications\\n  </a>\\n  and\\n  <a href=\"https://vote.webbyawards.com/PublicVoting#/2019/social/features/best-overall-social-presence-brand\" target=\"_blank\">\\n   Best Overall Social Presence (Brand)\\n  </a>\\n </li>\\n</ul>\\n<style>\\n li:before{\\ncontent: none !important;\\n}\\n</style>\\n<aside class=\"list_view_module boxed\">\\n <header>\\n  <h2 class=\"sidebar_title\">\\n   Related images and videos\\n  </h2>\\n </header>\\n <ul>\\n  <li>\\n   <a href=\"/resources/22401/insight-sol-14-panorama/\" target=\"_self\">\\n    <div class=\"list_content\">\\n     <div class=\"list_image\">\\n      <img alt=\"InSight captured this panorama of its landing site on the 14th Martian day, or sol, of its mission.\" src=\"/system/resources/list_images/22401_PIA23136-th.jpg\"/>\\n     </div>\\n     <div class=\"list_text\">\\n      <div class=\"list_title\">\\n       InSight Sol 14 Panorama\\n      </div>\\n     </div>\\n    </div>\\n   </a>\\n  </li>\\n  <li>\\n   <a href=\"/resources/22403/curiosity-sees-waves-in-the-clay-unit/\" target=\"_self\">\\n    <div class=\"list_content\">\\n     <div class=\"list_image\">\\n      <img alt=\"The hills and troughs in this little valley, carved between a ridge and cliffs higher up Mount Sharp, almost look like undulating waves. \" src=\"/system/resources/list_images/22403_PIA23137-320x240.jpg\"/>\\n     </div>\\n     <div class=\"list_text\">\\n      <div class=\"list_title\">\\n       Curiosity Sees \\'Waves\\' in the Clay Unit\\n      </div>\\n     </div>\\n    </div>\\n   </a>\\n  </li>\\n  <li>\\n   <a href=\"/resources/22404/curiositys-latest-drill-hole/\" target=\"_self\">\\n    <div class=\"list_content\">\\n     <div class=\"list_image\">\\n      <img alt=\"The Mast Camera, or Mastcam, on NASA\\'s Curiosity Mars rover captured this set of images before and after it drilled a rock nicknamed &quot;Aberlady.&quot; \" src=\"/system/resources/list_images/22404_PIA23138-226.gif\"/>\\n     </div>\\n     <div class=\"list_text\">\\n      <div class=\"list_title\">\\n       Curiosity\\'s Latest Drill Hole\\n      </div>\\n     </div>\\n    </div>\\n   </a>\\n  </li>\\n </ul>\\n <a href=\"/multimedia/images\">\\n  › more images\\n </a>\\n <br/>\\n <a href=\"/multimedia/videos\">\\n  › more videos\\n </a>\\n</aside>\\n<div class=\"relatedness\" style=\"display: none;\">\\n [183, 175, 19]\\n</div>\\n<section class=\"module suggested_features\">\\n <div class=\"grid_layout\">\\n  <header>\\n   <h2 class=\"module_title\">\\n    You Might Also Like\\n   </h2>\\n  </header>\\n  <section>\\n   <script>\\n    $(document).ready(function(){\\n    $(\".features\").slick({\\n      dots: false,\\n      infinite: true,\\n      speed: 300,\\n      slide: \\'.features .slide\\',\\n      slidesToShow: 3,\\n      slidesToScroll: 3,\\n      lazyLoad: \\'ondemand\\',\\n      centerMode: false,\\n      arrows: true,\\n      appendArrows: \\'.features .slick-nav\\',\\n      appendDots: \".features .slick-nav\",\\n      responsive: [{\"breakpoint\":953,\"settings\":{\"slidesToShow\":2,\"slidesToScroll\":2,\"centerMode\":false}},{\"breakpoint\":480,\"settings\":{\"slidesToShow\":1,\"slidesToScroll\":1,\"centerMode\":true,\"arrows\":false,\"centerPadding\":\"25px\"}}]\\n    });\\n  });\\n   </script>\\n   <div class=\"features\">\\n    <div class=\"slide\">\\n     <div class=\"image_and_description_container\">\\n      <a href=\"/news/8419/more-testing-for-mars-insights-mole/\">\\n       <div class=\"rollover_description\">\\n        <div class=\"rollover_description_inner\">\\n         After the mission\\'s heat probe began hammering last week, it appears to have hit a rock. The team is analyzing data before they hammer again.\\n        </div>\\n        <div class=\"overlay_arrow\">\\n         <img alt=\"More\" src=\"/assets/overlay-arrow.png\"/>\\n        </div>\\n       </div>\\n       <img alt=\"More Testing for Mars InSight\\'s \\'Mole\\'\" class=\"img-lazy\" data-lazy=\"/system/news_items/list_view_images/8419_PIA23046-th.jpg\" src=\"/assets/loading_320x240.png\"/>\\n      </a>\\n     </div>\\n     <div class=\"content_title\">\\n      <a href=\"/news/8419/more-testing-for-mars-insights-mole/\">\\n       More Testing for Mars InSight\\'s \\'Mole\\'\\n      </a>\\n     </div>\\n     <div class=\"relatedness\" style=\"display: none;\">\\n      [183, 165]\\n     </div>\\n    </div>\\n    <div class=\"slide\">\\n     <div class=\"image_and_description_container\">\\n      <a href=\"/news/8427/curiosity-tastes-first-sample-in-clay-bearing-unit/\">\\n       <div class=\"rollover_description\">\\n        <div class=\"rollover_description_inner\">\\n         This new region on Mars might reveal more about the role of water on Mount Sharp.\\n        </div>\\n        <div class=\"overlay_arrow\">\\n         <img alt=\"More\" src=\"/assets/overlay-arrow.png\"/>\\n        </div>\\n       </div>\\n       <img alt=\"Curiosity Tastes First Sample in \\'Clay-Bearing Unit\\'\" class=\"img-lazy\" data-lazy=\"/system/news_items/list_view_images/8427_PIA23138-226.gif\" src=\"/assets/loading_320x240.png\"/>\\n      </a>\\n     </div>\\n     <div class=\"content_title\">\\n      <a href=\"/news/8427/curiosity-tastes-first-sample-in-clay-bearing-unit/\">\\n       Curiosity Tastes First Sample in \\'Clay-Bearing Unit\\'\\n      </a>\\n     </div>\\n     <div class=\"relatedness\" style=\"display: none;\">\\n      [175, 176, 165]\\n     </div>\\n    </div>\\n    <div class=\"slide\">\\n     <div class=\"image_and_description_container\">\\n      <a href=\"/news/8425/curiosity-captured-two-solar-eclipses-on-mars/\">\\n       <div class=\"rollover_description\">\\n        <div class=\"rollover_description_inner\">\\n         Observing the Martian moons Phobos and Deimos crossing in front of the Sun helps scientists better understand their orbits.\\n        </div>\\n        <div class=\"overlay_arrow\">\\n         <img alt=\"More\" src=\"/assets/overlay-arrow.png\"/>\\n        </div>\\n       </div>\\n       <img alt=\"Curiosity Captured Two Solar Eclipses on Mars\" class=\"img-lazy\" data-lazy=\"/system/news_items/list_view_images/8425_PIA23133-320x240.gif\" src=\"/assets/loading_320x240.png\"/>\\n      </a>\\n     </div>\\n     <div class=\"content_title\">\\n      <a href=\"/news/8425/curiosity-captured-two-solar-eclipses-on-mars/\">\\n       Curiosity Captured Two Solar Eclipses on Mars\\n      </a>\\n     </div>\\n     <div class=\"relatedness\" style=\"display: none;\">\\n      [175, 176, 165]\\n     </div>\\n    </div>\\n    <div class=\"slide\">\\n     <div class=\"image_and_description_container\">\\n      <a href=\"/news/8424/nasas-mars-helicopter-completes-flight-tests/\">\\n       <div class=\"rollover_description\">\\n        <div class=\"rollover_description_inner\">\\n         The first helicopter to fly on Mars had its first flight on Earth.\\n        </div>\\n        <div class=\"overlay_arrow\">\\n         <img alt=\"More\" src=\"/assets/overlay-arrow.png\"/>\\n        </div>\\n       </div>\\n       <img alt=\"NASA\\'s Mars Helicopter Completes Flight Tests\" class=\"img-lazy\" data-lazy=\"/system/news_items/list_view_images/8424_PIA23155-320x240.jpg\" src=\"/assets/loading_320x240.png\"/>\\n      </a>\\n     </div>\\n     <div class=\"content_title\">\\n      <a href=\"/news/8424/nasas-mars-helicopter-completes-flight-tests/\">\\n       NASA\\'s Mars Helicopter Completes Flight Tests\\n      </a>\\n     </div>\\n     <div class=\"relatedness\" style=\"display: none;\">\\n      [180, 175, 165]\\n     </div>\\n    </div>\\n    <div class=\"slide\">\\n     <div class=\"image_and_description_container\">\\n      <a href=\"/news/8423/asteroids-hydrogen-make-great-recipe-for-life-on-mars/\">\\n       <div class=\"rollover_description\">\\n        <div class=\"rollover_description_inner\">\\n         Laser blasts in lab tests suggest asteroid bombardment could have provided key ingredients for life on ancient Mars.\\n        </div>\\n        <div class=\"overlay_arrow\">\\n         <img alt=\"More\" src=\"/assets/overlay-arrow.png\"/>\\n        </div>\\n       </div>\\n       <img alt=\"Asteroids, Hydrogen Make Great Recipe for Life on Mars\" class=\"img-lazy\" data-lazy=\"/system/news_items/list_view_images/8423_21472_pia22207_320.jpg\" src=\"/assets/loading_320x240.png\"/>\\n      </a>\\n     </div>\\n     <div class=\"content_title\">\\n      <a href=\"/news/8423/asteroids-hydrogen-make-great-recipe-for-life-on-mars/\">\\n       Asteroids, Hydrogen Make Great Recipe for Life on Mars\\n      </a>\\n     </div>\\n     <div class=\"relatedness\" style=\"display: none;\">\\n      [175, 176, 165]\\n     </div>\\n    </div>\\n    <div class=\"slide\">\\n     <div class=\"image_and_description_container\">\\n      <a href=\"/news/8422/catch-nasas-jpl-at-the-clippers-scifest-this-weekend/\">\\n       <div class=\"rollover_description\">\\n        <div class=\"rollover_description_inner\">\\n         Students and families can meet a Mars rover, take a virtual tour through our solar system and explore alien worlds with NASA\\'s Jet Propulsion Laboratory at the Clippers SciFest SoCal.\\n        </div>\\n        <div class=\"overlay_arrow\">\\n         <img alt=\"More\" src=\"/assets/overlay-arrow.png\"/>\\n        </div>\\n       </div>\\n       <img alt=\"Catch NASA\\'s JPL at the Clippers SciFest This Weekend\" class=\"img-lazy\" data-lazy=\"/system/news_items/list_view_images/8422_USASEF2019-th.jpg\" src=\"/assets/loading_320x240.png\"/>\\n      </a>\\n     </div>\\n     <div class=\"content_title\">\\n      <a href=\"/news/8422/catch-nasas-jpl-at-the-clippers-scifest-this-weekend/\">\\n       Catch NASA\\'s JPL at the Clippers SciFest This Weekend\\n      </a>\\n     </div>\\n     <div class=\"relatedness\" style=\"display: none;\">\\n      [175, 165]\\n     </div>\\n    </div>\\n    <div class=\"slide\">\\n     <div class=\"image_and_description_container\">\\n      <a href=\"/news/8421/nasas-mars-2020-rover-is-put-to-the-test/\">\\n       <div class=\"rollover_description\">\\n        <div class=\"rollover_description_inner\">\\n         In January, Mars 2020 engineers and technicians took over JPL\\'s cleanroom to put the mission\\'s cruise, entry capsule, descent stage and rover through their paces.\\n        </div>\\n        <div class=\"overlay_arrow\">\\n         <img alt=\"More\" src=\"/assets/overlay-arrow.png\"/>\\n        </div>\\n       </div>\\n       <img alt=\"NASA\\'s Mars 2020 Rover Is Put to the Test\" class=\"img-lazy\" data-lazy=\"/system/news_items/list_view_images/8421_PIA22966-320x240.jpg\" src=\"/assets/loading_320x240.png\"/>\\n      </a>\\n     </div>\\n     <div class=\"content_title\">\\n      <a href=\"/news/8421/nasas-mars-2020-rover-is-put-to-the-test/\">\\n       NASA\\'s Mars 2020 Rover Is Put to the Test\\n      </a>\\n     </div>\\n     <div class=\"relatedness\" style=\"display: none;\">\\n      [180, 175, 165]\\n     </div>\\n    </div>\\n    <div class=\"slide\">\\n     <div class=\"image_and_description_container\">\\n      <a href=\"/news/8416/curiosity-resumes-operations-after-switching-computers/\">\\n       <div class=\"rollover_description\">\\n        <div class=\"rollover_description_inner\">\\n         Curiosity experienced a computer reset on its Side-A computer on Wednesday, March 6, 2019 (Sol 2,339), that triggered the rover\\'s safe mode.\\n        </div>\\n        <div class=\"overlay_arrow\">\\n         <img alt=\"More\" src=\"/assets/overlay-arrow.png\"/>\\n        </div>\\n       </div>\\n       <img alt=\"Curiosity Resumes Operations After Switching Computers\" class=\"img-lazy\" data-lazy=\"/system/news_items/list_view_images/8416_PIA23047-th.jpg\" src=\"/assets/loading_320x240.png\"/>\\n      </a>\\n     </div>\\n     <div class=\"content_title\">\\n      <a href=\"/news/8416/curiosity-resumes-operations-after-switching-computers/\">\\n       Curiosity Resumes Operations After Switching Computers\\n      </a>\\n     </div>\\n     <div class=\"relatedness\" style=\"display: none;\">\\n      [175, 176, 204]\\n     </div>\\n    </div>\\n    <div class=\"slide\">\\n     <div class=\"image_and_description_container\">\\n      <a href=\"/news/8420/opportunitys-parting-shot-was-a-beautiful-panorama/\">\\n       <div class=\"rollover_description\">\\n        <div class=\"rollover_description_inner\">\\n         NASA declared the record-setting rover\\'s mission complete on Feb. 13, 2019, but the final image from the rover has just been processed.\\n        </div>\\n        <div class=\"overlay_arrow\">\\n         <img alt=\"More\" src=\"/assets/overlay-arrow.png\"/>\\n        </div>\\n       </div>\\n       <img alt=\"Opportunity\\'s Parting Shot Was a Beautiful Panorama\" class=\"img-lazy\" data-lazy=\"/system/news_items/list_view_images/8420_PIA22908-LegacyPan-False-226.jpg\" src=\"/assets/loading_320x240.png\"/>\\n      </a>\\n     </div>\\n     <div class=\"content_title\">\\n      <a href=\"/news/8420/opportunitys-parting-shot-was-a-beautiful-panorama/\">\\n       Opportunity\\'s Parting Shot Was a Beautiful Panorama\\n      </a>\\n     </div>\\n     <div class=\"relatedness\" style=\"display: none;\">\\n      [177, 165, 175]\\n     </div>\\n    </div>\\n    <div class=\"slide\">\\n     <div class=\"image_and_description_container\">\\n      <a href=\"/news/8417/insight-lands-praise-and-a-proclamation-from-la-county/\">\\n       <div class=\"rollover_description\">\\n        <div class=\"rollover_description_inner\">\\n         Several members of the Mars InSight team accepted a proclamation on behalf of the mission from L.A. County Board of Supervisors on Tuesday, Feb. 19.\\n        </div>\\n        <div class=\"overlay_arrow\">\\n         <img alt=\"More\" src=\"/assets/overlay-arrow.png\"/>\\n        </div>\\n       </div>\\n       <img alt=\"InSight Lands Praise and a Proclamation from LA County\" class=\"img-lazy\" data-lazy=\"/system/news_items/list_view_images/8417_insight20190225-th.jpg\" src=\"/assets/loading_320x240.png\"/>\\n      </a>\\n     </div>\\n     <div class=\"content_title\">\\n      <a href=\"/news/8417/insight-lands-praise-and-a-proclamation-from-la-county/\">\\n       InSight Lands Praise and a Proclamation from LA County\\n      </a>\\n     </div>\\n     <div class=\"relatedness\" style=\"display: none;\">\\n      [183, 165]\\n     </div>\\n    </div>\\n    <div class=\"slide\">\\n     <div class=\"image_and_description_container\">\\n      <a href=\"/news/8415/insight-is-the-newest-mars-weather-service/\">\\n       <div class=\"rollover_description\">\\n        <div class=\"rollover_description_inner\">\\n         By collecting data around the clock, NASA\\'s lander will provide unique science about the Martian surface.\\n        </div>\\n        <div class=\"overlay_arrow\">\\n         <img alt=\"More\" src=\"/assets/overlay-arrow.png\"/>\\n        </div>\\n       </div>\\n       <img alt=\"InSight Is the Newest Mars Weather Service\" class=\"img-lazy\" data-lazy=\"/system/news_items/list_view_images/8415_PIA22876-th.jpg\" src=\"/assets/loading_320x240.png\"/>\\n      </a>\\n     </div>\\n     <div class=\"content_title\">\\n      <a href=\"/news/8415/insight-is-the-newest-mars-weather-service/\">\\n       InSight Is the Newest Mars Weather Service\\n      </a>\\n     </div>\\n     <div class=\"relatedness\" style=\"display: none;\">\\n      [183, 165]\\n     </div>\\n    </div>\\n    <div class=\"slide\">\\n     <div class=\"image_and_description_container\">\\n      <a href=\"/news/8412/nasas-insight-prepares-to-take-mars-temperature/\">\\n       <div class=\"rollover_description\">\\n        <div class=\"rollover_description_inner\">\\n         The lander\\'s second instrument is on the ground. But its ‘mole’ — a burrowing probe — has a long way to go.\\n        </div>\\n        <div class=\"overlay_arrow\">\\n         <img alt=\"More\" src=\"/assets/overlay-arrow.png\"/>\\n        </div>\\n       </div>\\n       <img alt=\"NASA\\'s InSight Prepares to Take Mars\\' Temperature\" class=\"img-lazy\" data-lazy=\"/system/news_items/list_view_images/8412_PIA23046-320x240.jpg\" src=\"/assets/loading_320x240.png\"/>\\n      </a>\\n     </div>\\n     <div class=\"content_title\">\\n      <a href=\"/news/8412/nasas-insight-prepares-to-take-mars-temperature/\">\\n       NASA\\'s InSight Prepares to Take Mars\\' Temperature\\n      </a>\\n     </div>\\n     <div class=\"relatedness\" style=\"display: none;\">\\n      [183, 165]\\n     </div>\\n    </div>\\n    <div class=\"grid_layout\">\\n     <div class=\"slick-nav_container\">\\n      <div class=\"slick-nav\">\\n      </div>\\n     </div>\\n    </div>\\n   </div>\\n  </section>\\n </div>\\n</section>\\n<footer id=\"site_footer\">\\n <div class=\"grid_layout\">\\n  <section class=\"upper_footer\">\\n   <div class=\"share\">\\n    <h2>\\n     Follow the Journey\\n    </h2>\\n    <div class=\"social_icons\">\\n     <!-- AddThis Button BEGIN -->\\n     <div class=\"addthis_toolbox addthis_default_style addthis_32x32_style\">\\n      <a addthis:userid=\"NASABeAMartian\" class=\"addthis_button_twitter_follow icon\">\\n       <img alt=\"twitter\" src=\"/assets/twitter_icon@2x.png\"/>\\n      </a>\\n      <a addthis:userid=\"NASABEAM\" class=\"addthis_button_facebook_follow icon\">\\n       <img alt=\"facebook\" src=\"/assets/facebook_icon@2x.png\"/>\\n      </a>\\n      <a addthis:userid=\"nasa\" class=\"addthis_button_instagram_follow icon\">\\n       <img alt=\"instagram\" src=\"/assets/instagram_icon@2x.png\"/>\\n      </a>\\n      <a addthis:url=\"https://mars.nasa.gov/rss/api/?feed=news&amp;category=all&amp;feedtype=rss\" class=\"addthis_button_rss_follow icon\">\\n       <img alt=\"rss\" src=\"/assets/rss_icon@2x.png\"/>\\n      </a>\\n     </div>\\n    </div>\\n    <script>\\n     addthis_loader.init(\"//s7.addthis.com/js/300/addthis_widget.js#pubid=ra-5a690e4c1320e328\", {follow: true})\\n  \\n  // AddThis Button END\\n    </script>\\n   </div>\\n   <div class=\"gradient_line\">\\n   </div>\\n  </section>\\n  <section class=\"sitemap\">\\n   <div class=\"sitemap_directory\" id=\"sitemap_directory\">\\n    <div class=\"sitemap_block\">\\n     <div class=\"footer_sitemap_item\">\\n      <h3 class=\"sitemap_title\">\\n       <a href=\"/#red_planet\">\\n        The Red Planet\\n       </a>\\n      </h3>\\n      <ul>\\n       <li>\\n        <div class=\"global_subnav_container\">\\n         <ul class=\"subnav\">\\n          <li>\\n           <a href=\"/#red_planet/0\" target=\"_self\">\\n            Dashboard\\n           </a>\\n          </li>\\n          <li>\\n           <a href=\"/#red_planet/1\" target=\"_self\">\\n            Science Goals\\n           </a>\\n          </li>\\n          <li>\\n           <a href=\"/#red_planet/2\" target=\"_self\">\\n            The Planet\\n           </a>\\n          </li>\\n          <li>\\n           <a href=\"/#red_planet/3\" target=\"_self\">\\n            Atmosphere\\n           </a>\\n          </li>\\n          <li>\\n           <a href=\"/#red_planet/4\" target=\"_self\">\\n            Astrobiology\\n           </a>\\n          </li>\\n          <li>\\n           <a href=\"/#red_planet/5\" target=\"_self\">\\n            Past, Present, Future, Timeline\\n           </a>\\n          </li>\\n         </ul>\\n        </div>\\n       </li>\\n      </ul>\\n     </div>\\n    </div>\\n    <div class=\"sitemap_block\">\\n     <div class=\"footer_sitemap_item\">\\n      <h3 class=\"sitemap_title\">\\n       <a href=\"/#mars_exploration_program\">\\n        The Program\\n       </a>\\n      </h3>\\n      <ul>\\n       <li>\\n        <div class=\"global_subnav_container\">\\n         <ul class=\"subnav\">\\n          <li>\\n           <a href=\"/#mars_exploration_program/0\" target=\"_self\">\\n            Mission Statement\\n           </a>\\n          </li>\\n          <li>\\n           <a href=\"/#mars_exploration_program/1\" target=\"_self\">\\n            About the Program\\n           </a>\\n          </li>\\n          <li>\\n           <a href=\"/#mars_exploration_program/2\" target=\"_self\">\\n            Organization\\n           </a>\\n          </li>\\n          <li>\\n           <a href=\"/#mars_exploration_program/3\" target=\"_self\">\\n            Why Mars?\\n           </a>\\n          </li>\\n          <li>\\n           <a href=\"/#mars_exploration_program/4\" target=\"_self\">\\n            Research Programs\\n           </a>\\n          </li>\\n          <li>\\n           <a href=\"/#mars_exploration_program/5\" target=\"_self\">\\n            Planetary Resources\\n           </a>\\n          </li>\\n          <li>\\n           <a href=\"/#mars_exploration_program/6\" target=\"_self\">\\n            Technologies\\n           </a>\\n          </li>\\n         </ul>\\n        </div>\\n       </li>\\n      </ul>\\n     </div>\\n    </div>\\n    <div class=\"sitemap_block\">\\n     <div class=\"footer_sitemap_item\">\\n      <h3 class=\"sitemap_title\">\\n       <a href=\"/#news_and_events\">\\n        News &amp; Events\\n       </a>\\n      </h3>\\n      <ul>\\n       <li>\\n        <div class=\"global_subnav_container\">\\n         <ul class=\"subnav\">\\n          <li>\\n           <a href=\"/news\" target=\"_self\">\\n            News\\n           </a>\\n          </li>\\n          <li>\\n           <a href=\"/events\" target=\"_self\">\\n            Events\\n           </a>\\n          </li>\\n         </ul>\\n        </div>\\n       </li>\\n      </ul>\\n     </div>\\n    </div>\\n    <div class=\"sitemap_block\">\\n     <div class=\"footer_sitemap_item\">\\n      <h3 class=\"sitemap_title\">\\n       <a href=\"/#multimedia\">\\n        Multimedia\\n       </a>\\n      </h3>\\n      <ul>\\n       <li>\\n        <div class=\"global_subnav_container\">\\n         <ul class=\"subnav\">\\n          <li>\\n           <a href=\"/multimedia/images/\" target=\"_self\">\\n            Images\\n           </a>\\n          </li>\\n          <li>\\n           <a href=\"/multimedia/videos/\" target=\"_self\">\\n            Videos\\n           </a>\\n          </li>\\n         </ul>\\n        </div>\\n       </li>\\n      </ul>\\n     </div>\\n    </div>\\n    <div class=\"sitemap_block\">\\n     <div class=\"footer_sitemap_item\">\\n      <h3 class=\"sitemap_title\">\\n       <a href=\"/#missions\">\\n        Missions\\n       </a>\\n      </h3>\\n      <ul>\\n       <li>\\n        <div class=\"global_subnav_container\">\\n         <ul class=\"subnav\">\\n          <li>\\n           <a href=\"/mars-exploration/missions/?category=167\" target=\"_self\">\\n            Past\\n           </a>\\n          </li>\\n          <li>\\n           <a href=\"/mars-exploration/missions/?category=170\" target=\"_self\">\\n            Present\\n           </a>\\n          </li>\\n          <li>\\n           <a href=\"/mars-exploration/missions/?category=171\" target=\"_self\">\\n            Future\\n           </a>\\n          </li>\\n          <li>\\n           <a href=\"/mars-exploration/partners\" target=\"_self\">\\n            International Partners\\n           </a>\\n          </li>\\n         </ul>\\n        </div>\\n       </li>\\n      </ul>\\n     </div>\\n    </div>\\n    <div class=\"sitemap_block\">\\n     <div class=\"footer_sitemap_item\">\\n      <h3 class=\"sitemap_title\">\\n       <a href=\"/#more\">\\n        More\\n       </a>\\n      </h3>\\n      <ul>\\n       <li>\\n        <div class=\"global_subnav_container\">\\n         <ul class=\"subnav\">\\n         </ul>\\n        </div>\\n       </li>\\n      </ul>\\n     </div>\\n    </div>\\n    <div class=\"sitemap_block\">\\n     <div class=\"footer_sitemap_item\">\\n      <h3 class=\"sitemap_title\">\\n       <a href=\"/legacy\">\\n        Legacy Site\\n       </a>\\n      </h3>\\n      <ul>\\n       <li>\\n        <div class=\"global_subnav_container\">\\n         <ul class=\"subnav\">\\n          <li>\\n           <a class=\"\" href=\"/legacy\" target=\"_self\">\\n            Legacy Site\\n           </a>\\n          </li>\\n         </ul>\\n        </div>\\n       </li>\\n      </ul>\\n     </div>\\n    </div>\\n   </div>\\n   <div class=\"gradient_line\">\\n   </div>\\n  </section>\\n  <section class=\"lower_footer\">\\n   <div class=\"nav_container\">\\n    <nav>\\n     <ul>\\n      <li>\\n       <a href=\"http://science.nasa.gov/\" target=\"_blank\">\\n        NASA Science Mission Directorate\\n       </a>\\n      </li>\\n      <li>\\n       <a href=\"https://www.jpl.nasa.gov/copyrights.php\" target=\"_blank\">\\n        Privacy\\n       </a>\\n      </li>\\n      <li>\\n       <a href=\"http://www.jpl.nasa.gov/imagepolicy/\" target=\"_blank\">\\n        Image Policy\\n       </a>\\n      </li>\\n      <li>\\n       <a href=\"https://mars.nasa.gov/feedback/\" target=\"_self\">\\n        Feedback\\n       </a>\\n      </li>\\n      <li>\\n       <a href=\"http://mars.nasa.gov/legacy\" target=\"_blank\">\\n        Legacy Mars Site\\n       </a>\\n      </li>\\n     </ul>\\n    </nav>\\n   </div>\\n   <div class=\"credits\">\\n    <div class=\"footer_brands_top\">\\n     <p>\\n      Managed by the Mars Exploration Program and the Jet Propulsion Laboratory for NASA’s Science Mission Directorate\\n     </p>\\n    </div>\\n    <!-- .footer_brands -->\\n    <!-- %a.jpl{href: \"\", target: \"_blank\"}Institution -->\\n    <!-- -->\\n    <!-- %a.caltech{href: \"\", target: \"_blank\"}Institution -->\\n    <!-- .staff -->\\n    <!-- %p -->\\n    <!-- - get_staff_for_category(get_field_from_admin_config(:web_staff_category_id)) -->\\n    <!-- - @staff.each_with_index do |staff, idx| -->\\n    <!-- - unless staff.is_in_footer == 0 -->\\n    <!-- = staff.title + \": \" -->\\n    <!-- - if staff.contact_link =~ /@/ -->\\n    <!-- = mail_to staff.contact_link, staff.name, :subject => \"[#{@site_title}]\" -->\\n    <!-- - elsif staff.contact_link.present? -->\\n    <!-- = link_to staff.name, staff.contact_link -->\\n    <!-- - else -->\\n    <!-- = staff.name -->\\n    <!-- - unless (idx + 1 == @staff.size) -->\\n    <!-- %br -->\\n   </div>\\n  </section>\\n </div>\\n</footer>\\n<script id=\"_fed_an_ua_tag\" src=\"https://dap.digitalgov.gov/Universal-Federated-Analytics-Min.js?agency=NASA&amp;subagency=JPL-Mars-MEPJPL&amp;pua=UA-9453474-9,UA-118212757-11&amp;dclink=true&amp;sp=searchbox&amp;exts=tif,tiff,wav\" type=\"text/javascript\">\\n</script>\\n'"
      ]
     },
     "execution_count": 17,
     "metadata": {},
     "output_type": "execute_result"
    }
   ],
   "source": [
    "nasa_page_content.prettify()"
   ]
  },
  {
   "cell_type": "code",
   "execution_count": 18,
   "metadata": {},
   "outputs": [
    {
     "data": {
      "text/plain": [
       "[<p>Seven NASA websites and social media efforts are nominated for the 2019 Webby People's Voice Awards. Public voting continues through April 18. Credit: NASA/JPL-Caltech</p>,\n",
       " <p>Want to talk about how to land spacecraft onto other planets? We're here for you. Looking for the latest news or in-depth stories about science, technology and exploration? We've got those, too.</p>,\n",
       " <p>And apparently, people have noticed. Seven of NASA's digital properties have been nominated for the 2019 Webby Awards, which recognize excellence in digital communications. Three others have been <span>designated</span> honorees in this year's awards.</p>,\n",
       " <p>\"We're really excited to have all of these efforts recognized,\" said Bettina Inclán, NASA's associate administrator for communications. \"They represent hundreds of people across NASA who are committed to bringing the excitement of exploration to everyone.\"</p>,\n",
       " <p>The social media efforts for NASA's <a href=\"https://twitter.com/NASAInSight\" target=\"_blank\">InSight Mars lander</a>, nominated in the Education &amp; Discovery category, helped to make the hashtag #MarsLanding the No. 1 globally trending topic on Twitter on Nov. 26, 2018, the spacecraft's landing day. That day was also the Monday after Thanksgiving weekend in the United States, reputed to be the busiest online shopping day of the year. #MarsLanding trended higher than the hashtag #CyberMonday.</p>,\n",
       " <p>The combined excellence of all of NASA’s <a href=\"https://www.nasa.gov/socialmedia\" target=\"_blank\">flagship social media accounts</a> led to nominations in the Corporate Communications and Best Overall Social Presence (Brand) categories. The agency reached 40 million followers on Instagram this year, with more than 30 million on Twitter and 21 million on Facebook.</p>,\n",
       " <p>Three NASA websites were nominated for Webbys: <a href=\"http://www.nasa.gov/\" target=\"_blank\">NASA.gov</a>, the agency’s flagship website, in the Government and Civil Innovation category; <a href=\"https://solarsystem.nasa.gov/\" target=\"_blank\">Solar System Exploration</a>, for Science; and <a href=\"https://climate.nasa.gov/\" target=\"_blank\">Global Climate Change</a>, for Green. Now averaging nearly 8 million visits a month, NASA.gov has been the agency's primary website since the early 1990s. It has received 10 Webby Award nominations since 1998, winning the public People's Voice award 10 times and three juried Webbys. In 2018, Gizmodo named it one of the \"<a href=\"https://gizmodo.com/100-websites-that-shaped-the-internet-as-we-know-it-1829634771?utm_campaign=socialflow_gizmodo_facebook&amp;utm_medium=socialflow&amp;utm_source=gizmodo_facebook&amp;fbclid=IwAR3wJ4E-98V9STlAlWMXLSsujB0aju4eQuAw1RCCtmsxgydfWczwFDivuPA\" target=\"_blank\">100 Websites that Shaped the Internet as We Know It.</a>\"</p>,\n",
       " <p>The Solar System Exploration site is NASA's real-time encyclopedia of deep-space exploration, with in-depth information on the variety of bodies found in our solar system and the missions that are exploring them. It has received three People's Voice awards and a Webby to date and receives about 750,000 visits a month.</p>,\n",
       " <p>The Global Climate Change site, established in 2009 and visited 1.2 million times monthly, has received two People's Voice awards and two Webbys, one each in the Science and Green categories. Since 2015, it has been the top Google search result for the query \"climate change.\"</p>,\n",
       " <p>The video “<a href=\"https://www.youtube.com/watch?v=-kcKjmsCO8U\" target=\"_blank\">The Call of Science</a>,\" produced by NASA's Jet Propulsion Laboratory (JPL) was nominated in the 360 Video category. The video describes NASA research on glaciers and coral reefs, highlighting its importance in understanding changing environments.</p>,\n",
       " <p><a href=\"https://www.jpl.nasa.gov/webby/\">JPL's social media</a> efforts also received an “honoree” designation for <a href=\"https://vote.webbyawards.com/PublicVoting#/2019/advertising-media-pr/media/best-use-of-earned-media\" target=\"_blank\">Best Use of Earned Media</a>. <a href=\"https://opensourcerover.jpl.nasa.gov/#!/home\">JPL's Open Source Rover</a> is a <a href=\"https://wbby.co/vote-web53\">Science Website</a> honoree; and its podcast, <a href=\"https://mars.nasa.gov/insight/multimedia/podcast/\" target=\"_blank\">\"On a Mission\"</a> is a <a href=\"https://vote.webbyawards.com/PublicVoting#/2019/podcasts/general-podcasts/science-education\" target=\"_blank\">Science &amp; Education Podcast</a> honoree.</p>,\n",
       " <p>NASA has a long history of striving for digital distinction and has been <a href=\"https://www.nasa.gov/feature/nasa-webby-award-winners/\" target=\"_blank\">honored</a> by the Webby Awards over the years. Established in 1996 by the International Academy of Digital Arts and Sciences, the Webby Awards honor excellence on the internet, including websites, advertising and media, online film and video, mobile sites, apps and social media. The Webby in each category is awarded by a judging panel, but members of the public can register with the Webby Awards and vote for the <a href=\"https://vote.webbyawards.com/PublicVoting\" target=\"_blank\">People's Voice Award</a> in each category. Members of the public can vote for their favorite sites and services in hundreds of categories until April 18; registration is required.</p>,\n",
       " <p>The InSight Mars lander social media, Solar Exploration Site and Global Climate Change site are managed for NASA by JPL, a division of Caltech in Pasadena, California. NASA's flagship social media accounts and NASA.gov are managed by the Office of Communications at NASA Headquarters, Washington.</p>,\n",
       " <p><span>Nominees include four JPL projects: the solar system and climate websites, InSight social media, and a 360-degree Earth video. Public voting closes April 18, 2019.</span></p>,\n",
       " <p><b>News Media Contacts</b></p>,\n",
       " <p>Stephanie L. Smith<br/>\n",
       " 818-393-5464<br/>\n",
       " Jet Propulsion Laboratory, Pasadena, Calif.<br/>\n",
       " <a href=\"mailto:slsmith@jpl.nasa.gov\">slsmith@jpl.nasa.gov</a></p>,\n",
       " <p>Brian Dunbar<br/>\n",
       " 202-358-0873<br/>\n",
       " NASA Headquarters, Washington<br/>\n",
       " <a href=\"mailto:brian.dunbar@nasa.gov\">brian.dunbar@nasa.gov</a></p>,\n",
       " <p>Managed by the Mars Exploration Program and the Jet Propulsion Laboratory for NASA’s Science Mission Directorate</p>]"
      ]
     },
     "execution_count": 18,
     "metadata": {},
     "output_type": "execute_result"
    }
   ],
   "source": [
    "#find all paragraphs\n",
    "nasa_page_content.find_all(\"p\")"
   ]
  },
  {
   "cell_type": "code",
   "execution_count": 19,
   "metadata": {},
   "outputs": [],
   "source": [
    "#since there are multiple paragraphs I will loop through them all and store to a list\n",
    "nasa_textContent = []\n",
    "for i in range(0, 14):\n",
    "    nasa_paragraphs = nasa_page_content.find_all(\"p\")[i].text\n",
    "    nasa_textContent.append(nasa_paragraphs)"
   ]
  },
  {
   "cell_type": "code",
   "execution_count": 20,
   "metadata": {},
   "outputs": [
    {
     "data": {
      "text/plain": [
       "\"Seven NASA websites and social media efforts are nominated for the 2019 Webby People's Voice Awards. Public voting continues through April 18. Credit: NASA/JPL-Caltech\""
      ]
     },
     "execution_count": 20,
     "metadata": {},
     "output_type": "execute_result"
    }
   ],
   "source": [
    "#first paragraph\n",
    "nasa_textContent[0]"
   ]
  },
  {
   "cell_type": "code",
   "execution_count": 21,
   "metadata": {},
   "outputs": [
    {
     "data": {
      "text/plain": [
       "'Nominees include four JPL projects: the solar system and climate websites, InSight social media, and a 360-degree Earth video. Public voting closes April 18, 2019.'"
      ]
     },
     "execution_count": 21,
     "metadata": {},
     "output_type": "execute_result"
    }
   ],
   "source": [
    "#last paragraph\n",
    "nasa_textContent[13]"
   ]
  },
  {
   "cell_type": "markdown",
   "metadata": {},
   "source": [
    "# JPL Mars Space Images - Featured Image"
   ]
  },
  {
   "cell_type": "code",
   "execution_count": 22,
   "metadata": {},
   "outputs": [],
   "source": [
    "executable_path = {'executable_path': 'chromedriver.exe'}\n",
    "mars_browser = Browser('chrome', **executable_path, headless=False)"
   ]
  },
  {
   "cell_type": "code",
   "execution_count": 23,
   "metadata": {},
   "outputs": [],
   "source": [
    "#use browser to visist url\n",
    "mars_url=\"https://www.jpl.nasa.gov/spaceimages/?search=&category=Mars\"\n",
    "mars_browser.visit(mars_url)"
   ]
  },
  {
   "cell_type": "code",
   "execution_count": 24,
   "metadata": {},
   "outputs": [],
   "source": [
    "#Use BS to parse data\n",
    "mars_html = mars_browser.html\n",
    "mars_soup = BeautifulSoup(mars_html, 'html.parser')"
   ]
  },
  {
   "cell_type": "code",
   "execution_count": 25,
   "metadata": {},
   "outputs": [
    {
     "name": "stdout",
     "output_type": "stream",
     "text": [
      "www.jpl.nasa.gov/spaceimages/images/wallpaper/PIA11777-1920x1200.jpg\n"
     ]
    }
   ],
   "source": [
    "#this will find the src for the background image but this isnt a url\n",
    "div_style = mars_soup.find('article')['style']\n",
    "style = cssutils.parseStyle(div_style)\n",
    "image_url = style['background-image']\n",
    "image_url = image_url.replace('url(', '').replace(')', '')\n",
    "\n",
    "#tag the ending to the base url\n",
    "featured_image_url = f'www.jpl.nasa.gov{image_url}'\n",
    "print(featured_image_url)\n",
    "mars_browser.quit()"
   ]
  },
  {
   "cell_type": "markdown",
   "metadata": {},
   "source": [
    "# Mars Weather"
   ]
  },
  {
   "cell_type": "code",
   "execution_count": 26,
   "metadata": {},
   "outputs": [],
   "source": [
    "twitter_browser = Browser('chrome', **executable_path, headless=False)\n",
    "twitter_url = \"https://twitter.com/marswxreport?lang=en\"\n",
    "twitter_browser.visit(twitter_url)\n",
    "twitter_html = twitter_browser.html\n",
    "twitter_soup = BeautifulSoup(twitter_html, 'html.parser')\n"
   ]
  },
  {
   "cell_type": "code",
   "execution_count": 27,
   "metadata": {},
   "outputs": [
    {
     "name": "stdout",
     "output_type": "stream",
     "text": [
      "InSight sol 137 (2019-04-16) low -97.0ºC (-142.7ºF) high -15.9ºC (3.4ºF)\n",
      "winds from the SW at 4.3 m/s (9.7 mph) gusting to 12.4 m/s (27.7 mph)\n",
      "pressure at 7.30\n"
     ]
    }
   ],
   "source": [
    "#this will find the tweets about weather\n",
    "mars_weather=[]\n",
    "weather_info_list = []\n",
    "for weather_info in twitter_soup.find_all('p',class_=\"TweetTextSize TweetTextSize--normal js-tweet-text tweet-text\"):\n",
    "        weather_info_list.append(weather_info.text.strip())\n",
    "\n",
    "# Find the latest tweet about weather\n",
    "mars_weather = weather_info_list[0]\n",
    "\n",
    "#Clean up the data a little to remove excess data at end\n",
    "mars_weather = mars_weather[:-30]\n",
    "print(mars_weather)\n",
    "twitter_browser.quit()"
   ]
  },
  {
   "cell_type": "markdown",
   "metadata": {},
   "source": [
    "# Mars Facts"
   ]
  },
  {
   "cell_type": "code",
   "execution_count": 28,
   "metadata": {},
   "outputs": [],
   "source": [
    "facts_url = \"https://space-facts.com/mars/\""
   ]
  },
  {
   "cell_type": "code",
   "execution_count": 29,
   "metadata": {},
   "outputs": [
    {
     "name": "stdout",
     "output_type": "stream",
     "text": [
      "[                      0                              1\n",
      "0  Equatorial Diameter:                       6,792 km\n",
      "1       Polar Diameter:                       6,752 km\n",
      "2                 Mass:  6.42 x 10^23 kg (10.7% Earth)\n",
      "3                Moons:            2 (Phobos & Deimos)\n",
      "4       Orbit Distance:       227,943,824 km (1.52 AU)\n",
      "5         Orbit Period:           687 days (1.9 years)\n",
      "6  Surface Temperature:                  -153 to 20 °C\n",
      "7         First Record:              2nd millennium BC\n",
      "8          Recorded By:           Egyptian astronomers]\n"
     ]
    }
   ],
   "source": [
    "#USE BS to scrape the table data from website and print as table string\n",
    "res = requests.get(facts_url)\n",
    "soup = BeautifulSoup(res.content,'lxml')\n",
    "facts_table = soup.find_all('table')[0] \n",
    "facts_df = pd.read_html(str(facts_table))\n",
    "print(facts_df)\n"
   ]
  },
  {
   "cell_type": "code",
   "execution_count": 30,
   "metadata": {
    "scrolled": true
   },
   "outputs": [
    {
     "name": "stdout",
     "output_type": "stream",
     "text": [
      "[{\"0\":\"Equatorial Diameter:\",\"1\":\"6,792 km\"},{\"0\":\"Polar Diameter:\",\"1\":\"6,752 km\"},{\"0\":\"Mass:\",\"1\":\"6.42 x 10^23 kg (10.7% Earth)\"},{\"0\":\"Moons:\",\"1\":\"2 (Phobos & Deimos)\"},{\"0\":\"Orbit Distance:\",\"1\":\"227,943,824 km (1.52 AU)\"},{\"0\":\"Orbit Period:\",\"1\":\"687 days (1.9 years)\"},{\"0\":\"Surface Temperature:\",\"1\":\"-153 to 20 \\u00b0C\"},{\"0\":\"First Record:\",\"1\":\"2nd millennium BC\"},{\"0\":\"Recorded By:\",\"1\":\"Egyptian astronomers\"}]\n"
     ]
    }
   ],
   "source": [
    "#convert tp JSON\n",
    "print(facts_df[0].to_json(orient='records'))"
   ]
  },
  {
   "cell_type": "code",
   "execution_count": 31,
   "metadata": {},
   "outputs": [
    {
     "name": "stdout",
     "output_type": "stream",
     "text": [
      "    0                     1\n",
      "--  --------------------  -----------------------------\n",
      " 0  Equatorial Diameter:  6,792 km\n",
      " 1  Polar Diameter:       6,752 km\n",
      " 2  Mass:                 6.42 x 10^23 kg (10.7% Earth)\n",
      " 3  Moons:                2 (Phobos & Deimos)\n",
      " 4  Orbit Distance:       227,943,824 km (1.52 AU)\n",
      " 5  Orbit Period:         687 days (1.9 years)\n",
      " 6  Surface Temperature:  -153 to 20 °C\n",
      " 7  First Record:         2nd millennium BC\n",
      " 8  Recorded By:          Egyptian astronomers\n"
     ]
    }
   ],
   "source": [
    "#print cleaner looking table\n",
    "print( tabulate(facts_df[0], headers='keys') )"
   ]
  },
  {
   "cell_type": "markdown",
   "metadata": {},
   "source": [
    "# Mars Hemispheres"
   ]
  },
  {
   "cell_type": "code",
   "execution_count": 32,
   "metadata": {},
   "outputs": [],
   "source": [
    "#set main url\n",
    "hem_url = \"https://astrogeology.usgs.gov/search/results?q=hemisphere+enhanced&k1=target&v1=Mars\""
   ]
  },
  {
   "cell_type": "code",
   "execution_count": 33,
   "metadata": {},
   "outputs": [],
   "source": [
    "#use browser to visist url\n",
    "hem_browser = Browser('chrome', **executable_path, headless=False)\n",
    "hem_browser.visit(hem_url)\n",
    "\n",
    "hem_html = hem_browser.html\n",
    "hem_soup = bs(hem_html, 'html.parser')\n",
    "    \n",
    "# set open list to append images to\n",
    "hemisphere_image_urls = []\n",
    "\n",
    "products = hem_soup.find('div', class_='result-list')\n",
    "hemispheres = products.find_all('div', class_='item')\n",
    "    \n",
    "#find the links to hemispheres, click, then browse those for imge url and append to open list\n",
    "for hemisphere in hemispheres:\n",
    "    title = hemisphere.find('div', class_='description')\n",
    "\n",
    "    title_text = title.a.text\n",
    "    title_text = title_text.replace(' Enhanced', '')\n",
    "    hem_browser.click_link_by_partial_text(title_text)\n",
    "\n",
    "    hem_html = hem_browser.html\n",
    "    hem_soup = bs(hem_html, 'html.parser')\n",
    "\n",
    "    image = hem_soup.find('div', class_='downloads').find('ul').find('li')\n",
    "    img_url = image.a['href']\n",
    "\n",
    "    hemisphere_image_urls.append({'title': title_text, 'img_url': img_url})\n",
    "\n",
    "    hem_browser.click_link_by_partial_text('Back')\n",
    "hem_browser.quit()"
   ]
  },
  {
   "cell_type": "code",
   "execution_count": 34,
   "metadata": {
    "scrolled": true
   },
   "outputs": [
    {
     "data": {
      "text/plain": [
       "[{'title': 'Cerberus Hemisphere',\n",
       "  'img_url': 'http://astropedia.astrogeology.usgs.gov/download/Mars/Viking/cerberus_enhanced.tif/full.jpg'},\n",
       " {'title': 'Schiaparelli Hemisphere',\n",
       "  'img_url': 'http://astropedia.astrogeology.usgs.gov/download/Mars/Viking/schiaparelli_enhanced.tif/full.jpg'},\n",
       " {'title': 'Syrtis Major Hemisphere',\n",
       "  'img_url': 'http://astropedia.astrogeology.usgs.gov/download/Mars/Viking/syrtis_major_enhanced.tif/full.jpg'},\n",
       " {'title': 'Valles Marineris Hemisphere',\n",
       "  'img_url': 'http://astropedia.astrogeology.usgs.gov/download/Mars/Viking/valles_marineris_enhanced.tif/full.jpg'}]"
      ]
     },
     "execution_count": 34,
     "metadata": {},
     "output_type": "execute_result"
    }
   ],
   "source": [
    "hemisphere_image_urls\n"
   ]
  },
  {
   "cell_type": "code",
   "execution_count": null,
   "metadata": {},
   "outputs": [],
   "source": []
  },
  {
   "cell_type": "code",
   "execution_count": 42,
   "metadata": {},
   "outputs": [],
   "source": [
    "from flask import Flask\n",
    "from bs4 import BeautifulSoup as bs\n",
    "import requests\n",
    "import os\n",
    "from splinter import Browser\n",
    "from bs4 import BeautifulSoup\n",
    "import cssutils\n",
    "import pandas as pd\n",
    "from tabulate import tabulate\n",
    "import json\n",
    "#from bson import json_util\n",
    "\n",
    "\n",
    "executable_path = {'executable_path': 'chromedriver.exe'}\n",
    "def marsNews():\n",
    "\n",
    "    page_link  = \"https://mars.nasa.gov/news/8426/nasa-garners-7-webby-award-nominations/\"\n",
    "    page_response = requests.get(page_link, timeout=5)\n",
    "    nasa_page_content = bs(page_response.content, \"html.parser\")\n",
    "\n",
    "    nasa_title= nasa_page_content.title.text\n",
    "    nasa_page_content.find_all(\"p\")   \n",
    "    nasa_textContent = []\n",
    "    for i in range(0, 14):\n",
    "        nasa_paragraphs = nasa_page_content.find_all(\"p\")[i].text\n",
    "        nasa_textContent.append(nasa_paragraphs)\n",
    "    \n",
    "    nasa_latest_news = nasa_textContent[0]\n",
    "    news = f'Title:{nasa_title}, Latest News: {nasa_latest_news}'\n",
    "#     news_json=json.loads(news)\n",
    "    \n",
    "    \n",
    "   \n",
    "    return news\n",
    "\n",
    "\n",
    "def marsFeaturedImageURL():\n",
    "\n",
    "    \n",
    "    mars_browser = Browser('chrome', **executable_path, headless=False)\n",
    "\n",
    "    mars_url=\"https://www.jpl.nasa.gov/spaceimages/?search=&category=Mars\"\n",
    "    mars_browser.visit(mars_url)\n",
    "    mars_html = mars_browser.html\n",
    "    mars_soup = BeautifulSoup(mars_html, 'html.parser')\n",
    "    div_style = mars_soup.find('article')['style']\n",
    "    style = cssutils.parseStyle(div_style)\n",
    "    image_url = style['background-image']\n",
    "    image_url = image_url.replace('url(', '').replace(')', '')\n",
    "\n",
    "    #tag the ending to the base url\n",
    "    featured_image_url = f'www.jpl.nasa.gov{image_url}'\n",
    "    \n",
    "    #convert to json for mongo import\n",
    "    image_json=json.dumps(featured_image_url)\n",
    "    #return featured_image_url\n",
    "    return image_json\n",
    "    mars_browser.quit()\n",
    "\n",
    "def marsWeather():\n",
    "    twitter_browser = Browser('chrome', **executable_path, headless=False)\n",
    "    twitter_url = \"https://twitter.com/marswxreport?lang=en\"\n",
    "    twitter_browser.visit(twitter_url)\n",
    "    twitter_html = twitter_browser.html\n",
    "    twitter_soup = BeautifulSoup(twitter_html, 'html.parser')\n",
    "\n",
    "    #this will find the tweets about weather\n",
    "    mars_weather=[]\n",
    "    weather_info_list = []\n",
    "    for weather_info in twitter_soup.find_all('p',class_=\"TweetTextSize TweetTextSize--normal js-tweet-text tweet-text\"):\n",
    "            weather_info_list.append(weather_info.text.strip())\n",
    "\n",
    "    # Find the latest tweet about weather\n",
    "    mars_weather = weather_info_list[0]\n",
    "\n",
    "    #Clean up the data a little to remove excess data at end\n",
    "    mars_weather = mars_weather[:-30]\n",
    "    \n",
    "    #convert to json for mongo import\n",
    "    weather_json=json.dumps(mars_weather)\n",
    "    #return featured_image_url\n",
    "    return weather_json\n",
    "    mars_browser.quit()\n",
    "    #return mars_weather\n",
    "    twitter_browser.quit()\n",
    "\n",
    "def marsFacts():\n",
    "    facts_url = \"https://space-facts.com/mars/\"\n",
    "    #USE BS to scrape the table data from website and print as table string\n",
    "#     res = requests.get(facts_url)\n",
    "#     soup = BeautifulSoup(res.content,'lxml')\n",
    "#     facts_table = soup.find_all('table') \n",
    "    facts = pd.read_html(facts_url)[0]\n",
    "    facts.columns=[\"Description\",\"Value\"]\n",
    "    facts.set_index(\"Description\", inplace=True)\n",
    "    \n",
    "#     records = json.dumps(facts)\n",
    "    #try to change column names and reset index\n",
    "#     facts = facts.rename({0:\"Description\",1:\"Value\"}, axis=\"columns\")\n",
    "#     facts.set_index(\"Description\", inplace=True)\n",
    "#     facts.columns=['des','value']\n",
    "#     facts.set_index('des', inplace=True)\n",
    "    #convert to json for mongo import\n",
    "    #facts_json = facts.to_json()\n",
    "    return facts.to_html()\n",
    "    \n",
    "\n",
    "def marsHems():\n",
    "    #set main url\n",
    "    hem_url = \"https://astrogeology.usgs.gov/search/results?q=hemisphere+enhanced&k1=target&v1=Mars\"\n",
    "    #use browser to visist url\n",
    "    hem_browser = Browser('chrome', **executable_path, headless=False)\n",
    "    hem_browser.visit(hem_url)\n",
    "\n",
    "    hem_html = hem_browser.html\n",
    "    hem_soup = bs(hem_html, 'html.parser')\n",
    "        \n",
    "    # set open list to append images to\n",
    "    hemisphere_image_urls = []\n",
    "\n",
    "    products = hem_soup.find('div', class_='result-list')\n",
    "    hemispheres = products.find_all('div', class_='item')\n",
    "        \n",
    "    #find the links to hemispheres, click, then browse those for imge url and append to open list\n",
    "    for hemisphere in hemispheres:\n",
    "        title = hemisphere.find('div', class_='description')\n",
    "\n",
    "        title_text = title.a.text\n",
    "        title_text = title_text.replace(' Enhanced', '')\n",
    "        hem_browser.click_link_by_partial_text(title_text)\n",
    "\n",
    "        hem_html = hem_browser.html\n",
    "        hem_soup = bs(hem_html, 'html.parser')\n",
    "\n",
    "        image = hem_soup.find('div', class_='downloads').find('ul').find('li')\n",
    "        img_url = image.a['href']\n",
    "\n",
    "        hemisphere_image_urls.append({'title': title_text, 'img_url': img_url})\n",
    "\n",
    "        hem_browser.click_link_by_partial_text('Back')\n",
    "    \n",
    "    #convert to json for mongo import\n",
    "    hems_json = json.dumps(hemisphere_image_urls)\n",
    "    return hems_json\n",
    "    #return hemisphere_image_urls\n",
    "    hem_browser.quit()\n",
    "\n",
    "    \n",
    "   "
   ]
  },
  {
   "cell_type": "code",
   "execution_count": 43,
   "metadata": {},
   "outputs": [],
   "source": [
    "app = Flask(__name__)\n",
    "@app.route(\"/\")\n",
    "\n",
    "def scrape():\n",
    "    \"Main scrape functiona that will execute all other functions\" \n",
    "    \"and return a dictionary\"\n",
    "\n",
    "    mars_info = {}\n",
    "\n",
    "    mars_info[\"news\"] = marsNews()\n",
    "\n",
    "    mars_info[\"featured_image_url\"] = marsFeaturedImageURL()\n",
    "\n",
    "    mars_info[\"weather\"] = marsWeather()\n",
    "\n",
    "    mars_info[\"facts\"] = marsFacts()\n",
    "\n",
    "    mars_info[\"mars_hemispheres\"] = marsHems()\n",
    "\n",
    "    \n",
    "    mars_info={\n",
    "        \"news\":marsNews(),\n",
    "        \"featured_image_url\":marsFeaturedImageURL(),\n",
    "        \"weather\":marsWeather(),\n",
    "        \"facts\":marsFacts(),\n",
    "        \"mars_hemispheres\":marsHems()\n",
    "        }\n",
    "    \n",
    "    # return mars_data dict\n",
    "    return mars_info\n",
    "\n",
    "if __name__ == \"__main__\":  # run app\n",
    "    app.debug = True\n"
   ]
  },
  {
   "cell_type": "code",
   "execution_count": null,
   "metadata": {},
   "outputs": [],
   "source": []
  },
  {
   "cell_type": "code",
   "execution_count": 44,
   "metadata": {
    "scrolled": true
   },
   "outputs": [],
   "source": [
    "import pymongo\n",
    "#Establish connection\n",
    "conn = 'mongodb://localhost:27017'\n",
    "client = pymongo.MongoClient(conn)"
   ]
  },
  {
   "cell_type": "code",
   "execution_count": 46,
   "metadata": {
    "scrolled": true
   },
   "outputs": [
    {
     "ename": "TypeError",
     "evalue": "eval() arg 1 must be a string, bytes or code object",
     "output_type": "error",
     "traceback": [
      "\u001b[1;31m---------------------------------------------------------------------------\u001b[0m",
      "\u001b[1;31mTypeError\u001b[0m                                 Traceback (most recent call last)",
      "\u001b[1;32m<ipython-input-46-32555de1f4ab>\u001b[0m in \u001b[0;36m<module>\u001b[1;34m\u001b[0m\n\u001b[0;32m      4\u001b[0m         \u001b[1;34m\"weather\"\u001b[0m\u001b[1;33m:\u001b[0m\u001b[0mmarsWeather\u001b[0m\u001b[1;33m(\u001b[0m\u001b[1;33m)\u001b[0m\u001b[1;33m,\u001b[0m\u001b[1;33m\u001b[0m\u001b[1;33m\u001b[0m\u001b[0m\n\u001b[0;32m      5\u001b[0m         \u001b[1;34m\"facts\"\u001b[0m\u001b[1;33m:\u001b[0m\u001b[0mmarsFacts\u001b[0m\u001b[1;33m(\u001b[0m\u001b[1;33m)\u001b[0m\u001b[1;33m,\u001b[0m\u001b[1;33m\u001b[0m\u001b[1;33m\u001b[0m\u001b[0m\n\u001b[1;32m----> 6\u001b[1;33m         \u001b[1;34m\"mars_hemispheres\"\u001b[0m\u001b[1;33m:\u001b[0m\u001b[0mmarsHems\u001b[0m\u001b[1;33m(\u001b[0m\u001b[1;33m)\u001b[0m\u001b[1;33m\u001b[0m\u001b[1;33m\u001b[0m\u001b[0m\n\u001b[0m\u001b[0;32m      7\u001b[0m \u001b[1;33m\u001b[0m\u001b[0m\n\u001b[0;32m      8\u001b[0m         }\n",
      "\u001b[1;32m<ipython-input-42-83f5326f9b1b>\u001b[0m in \u001b[0;36mmarsHems\u001b[1;34m()\u001b[0m\n\u001b[0;32m    147\u001b[0m \u001b[1;33m\u001b[0m\u001b[0m\n\u001b[0;32m    148\u001b[0m \u001b[1;33m\u001b[0m\u001b[0m\n\u001b[1;32m--> 149\u001b[1;33m     \u001b[0mhems_dict\u001b[0m \u001b[1;33m=\u001b[0m \u001b[0meval\u001b[0m\u001b[1;33m(\u001b[0m\u001b[0mhemisphere_image_urls\u001b[0m\u001b[1;33m)\u001b[0m\u001b[1;33m\u001b[0m\u001b[1;33m\u001b[0m\u001b[0m\n\u001b[0m\u001b[0;32m    150\u001b[0m     \u001b[1;32mreturn\u001b[0m \u001b[0mhems_dict\u001b[0m\u001b[1;33m\u001b[0m\u001b[1;33m\u001b[0m\u001b[0m\n",
      "\u001b[1;31mTypeError\u001b[0m: eval() arg 1 must be a string, bytes or code object"
     ]
    }
   ],
   "source": [
    "mars_info={\n",
    "        \"news\":marsNews(),\n",
    "        \"featured_image_url\":marsFeaturedImageURL(),\n",
    "        \"weather\":marsWeather(),\n",
    "        \"facts\":marsFacts(),\n",
    "        \"mars_hemispheres\":marsHems()\n",
    "    \n",
    "        }"
   ]
  },
  {
   "cell_type": "code",
   "execution_count": null,
   "metadata": {
    "scrolled": false
   },
   "outputs": [],
   "source": []
  },
  {
   "cell_type": "code",
   "execution_count": null,
   "metadata": {},
   "outputs": [],
   "source": [
    "\n"
   ]
  },
  {
   "cell_type": "code",
   "execution_count": null,
   "metadata": {},
   "outputs": [],
   "source": [
    "#Create schema\n",
    "marsDB = client[\"marsDB\"]\n",
    "#Drop artist collection\n",
    "marsDB.scraped_data.drop()\n",
    "#Create collection\n",
    "mars_col = marsDB[\"scraped_data\"]"
   ]
  },
  {
   "cell_type": "code",
   "execution_count": null,
   "metadata": {},
   "outputs": [],
   "source": [
    "#Insert records into collection \n",
    "mars_col.insert(mars_info)"
   ]
  },
  {
   "cell_type": "code",
   "execution_count": null,
   "metadata": {},
   "outputs": [],
   "source": []
  },
  {
   "cell_type": "code",
   "execution_count": null,
   "metadata": {},
   "outputs": [],
   "source": []
  }
 ],
 "metadata": {
  "kernelspec": {
   "display_name": "Python [conda env:root]",
   "language": "python",
   "name": "conda-root-py"
  },
  "language_info": {
   "codemirror_mode": {
    "name": "ipython",
    "version": 3
   },
   "file_extension": ".py",
   "mimetype": "text/x-python",
   "name": "python",
   "nbconvert_exporter": "python",
   "pygments_lexer": "ipython3",
   "version": "3.6.8"
  }
 },
 "nbformat": 4,
 "nbformat_minor": 2
}
